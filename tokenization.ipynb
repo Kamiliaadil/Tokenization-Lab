{
  "nbformat": 4,
  "nbformat_minor": 0,
  "metadata": {
    "colab": {
      "provenance": [],
      "authorship_tag": "ABX9TyMMJdVS21JDNy0HRXJOQFis",
      "include_colab_link": true
    },
    "kernelspec": {
      "name": "python3",
      "display_name": "Python 3"
    },
    "language_info": {
      "name": "python"
    },
    "widgets": {
      "application/vnd.jupyter.widget-state+json": {
        "9aeb052efae541cdb58fd59553234db3": {
          "model_module": "@jupyter-widgets/controls",
          "model_name": "HBoxModel",
          "model_module_version": "1.5.0",
          "state": {
            "_dom_classes": [],
            "_model_module": "@jupyter-widgets/controls",
            "_model_module_version": "1.5.0",
            "_model_name": "HBoxModel",
            "_view_count": null,
            "_view_module": "@jupyter-widgets/controls",
            "_view_module_version": "1.5.0",
            "_view_name": "HBoxView",
            "box_style": "",
            "children": [
              "IPY_MODEL_8ac2fc7380bc473697d60d7a99620161",
              "IPY_MODEL_8b1cfd270b6f437b9a57acd5be73d630",
              "IPY_MODEL_9f2f1741d64e49d0851a8710fda3bb42"
            ],
            "layout": "IPY_MODEL_ae1286a62cef49d19b0937b895483a06"
          }
        },
        "8ac2fc7380bc473697d60d7a99620161": {
          "model_module": "@jupyter-widgets/controls",
          "model_name": "HTMLModel",
          "model_module_version": "1.5.0",
          "state": {
            "_dom_classes": [],
            "_model_module": "@jupyter-widgets/controls",
            "_model_module_version": "1.5.0",
            "_model_name": "HTMLModel",
            "_view_count": null,
            "_view_module": "@jupyter-widgets/controls",
            "_view_module_version": "1.5.0",
            "_view_name": "HTMLView",
            "description": "",
            "description_tooltip": null,
            "layout": "IPY_MODEL_46b5700f9278402fbda9e30cfd7bc8ea",
            "placeholder": "​",
            "style": "IPY_MODEL_748d9689bea44ab6ab18d42c169328c9",
            "value": "Downloading readme: 100%"
          }
        },
        "8b1cfd270b6f437b9a57acd5be73d630": {
          "model_module": "@jupyter-widgets/controls",
          "model_name": "FloatProgressModel",
          "model_module_version": "1.5.0",
          "state": {
            "_dom_classes": [],
            "_model_module": "@jupyter-widgets/controls",
            "_model_module_version": "1.5.0",
            "_model_name": "FloatProgressModel",
            "_view_count": null,
            "_view_module": "@jupyter-widgets/controls",
            "_view_module_version": "1.5.0",
            "_view_name": "ProgressView",
            "bar_style": "success",
            "description": "",
            "description_tooltip": null,
            "layout": "IPY_MODEL_14b8bb9e71af4e39bb1ae518470e9580",
            "max": 636,
            "min": 0,
            "orientation": "horizontal",
            "style": "IPY_MODEL_6a5453b8dde04554a63d58e6192e7508",
            "value": 636
          }
        },
        "9f2f1741d64e49d0851a8710fda3bb42": {
          "model_module": "@jupyter-widgets/controls",
          "model_name": "HTMLModel",
          "model_module_version": "1.5.0",
          "state": {
            "_dom_classes": [],
            "_model_module": "@jupyter-widgets/controls",
            "_model_module_version": "1.5.0",
            "_model_name": "HTMLModel",
            "_view_count": null,
            "_view_module": "@jupyter-widgets/controls",
            "_view_module_version": "1.5.0",
            "_view_name": "HTMLView",
            "description": "",
            "description_tooltip": null,
            "layout": "IPY_MODEL_623ca83d93874955a34d97a528e9be3e",
            "placeholder": "​",
            "style": "IPY_MODEL_c2a550aaefc1410987dca5f70a6d571c",
            "value": " 636/636 [00:00&lt;00:00, 28.6kB/s]"
          }
        },
        "ae1286a62cef49d19b0937b895483a06": {
          "model_module": "@jupyter-widgets/base",
          "model_name": "LayoutModel",
          "model_module_version": "1.2.0",
          "state": {
            "_model_module": "@jupyter-widgets/base",
            "_model_module_version": "1.2.0",
            "_model_name": "LayoutModel",
            "_view_count": null,
            "_view_module": "@jupyter-widgets/base",
            "_view_module_version": "1.2.0",
            "_view_name": "LayoutView",
            "align_content": null,
            "align_items": null,
            "align_self": null,
            "border": null,
            "bottom": null,
            "display": null,
            "flex": null,
            "flex_flow": null,
            "grid_area": null,
            "grid_auto_columns": null,
            "grid_auto_flow": null,
            "grid_auto_rows": null,
            "grid_column": null,
            "grid_gap": null,
            "grid_row": null,
            "grid_template_areas": null,
            "grid_template_columns": null,
            "grid_template_rows": null,
            "height": null,
            "justify_content": null,
            "justify_items": null,
            "left": null,
            "margin": null,
            "max_height": null,
            "max_width": null,
            "min_height": null,
            "min_width": null,
            "object_fit": null,
            "object_position": null,
            "order": null,
            "overflow": null,
            "overflow_x": null,
            "overflow_y": null,
            "padding": null,
            "right": null,
            "top": null,
            "visibility": null,
            "width": null
          }
        },
        "46b5700f9278402fbda9e30cfd7bc8ea": {
          "model_module": "@jupyter-widgets/base",
          "model_name": "LayoutModel",
          "model_module_version": "1.2.0",
          "state": {
            "_model_module": "@jupyter-widgets/base",
            "_model_module_version": "1.2.0",
            "_model_name": "LayoutModel",
            "_view_count": null,
            "_view_module": "@jupyter-widgets/base",
            "_view_module_version": "1.2.0",
            "_view_name": "LayoutView",
            "align_content": null,
            "align_items": null,
            "align_self": null,
            "border": null,
            "bottom": null,
            "display": null,
            "flex": null,
            "flex_flow": null,
            "grid_area": null,
            "grid_auto_columns": null,
            "grid_auto_flow": null,
            "grid_auto_rows": null,
            "grid_column": null,
            "grid_gap": null,
            "grid_row": null,
            "grid_template_areas": null,
            "grid_template_columns": null,
            "grid_template_rows": null,
            "height": null,
            "justify_content": null,
            "justify_items": null,
            "left": null,
            "margin": null,
            "max_height": null,
            "max_width": null,
            "min_height": null,
            "min_width": null,
            "object_fit": null,
            "object_position": null,
            "order": null,
            "overflow": null,
            "overflow_x": null,
            "overflow_y": null,
            "padding": null,
            "right": null,
            "top": null,
            "visibility": null,
            "width": null
          }
        },
        "748d9689bea44ab6ab18d42c169328c9": {
          "model_module": "@jupyter-widgets/controls",
          "model_name": "DescriptionStyleModel",
          "model_module_version": "1.5.0",
          "state": {
            "_model_module": "@jupyter-widgets/controls",
            "_model_module_version": "1.5.0",
            "_model_name": "DescriptionStyleModel",
            "_view_count": null,
            "_view_module": "@jupyter-widgets/base",
            "_view_module_version": "1.2.0",
            "_view_name": "StyleView",
            "description_width": ""
          }
        },
        "14b8bb9e71af4e39bb1ae518470e9580": {
          "model_module": "@jupyter-widgets/base",
          "model_name": "LayoutModel",
          "model_module_version": "1.2.0",
          "state": {
            "_model_module": "@jupyter-widgets/base",
            "_model_module_version": "1.2.0",
            "_model_name": "LayoutModel",
            "_view_count": null,
            "_view_module": "@jupyter-widgets/base",
            "_view_module_version": "1.2.0",
            "_view_name": "LayoutView",
            "align_content": null,
            "align_items": null,
            "align_self": null,
            "border": null,
            "bottom": null,
            "display": null,
            "flex": null,
            "flex_flow": null,
            "grid_area": null,
            "grid_auto_columns": null,
            "grid_auto_flow": null,
            "grid_auto_rows": null,
            "grid_column": null,
            "grid_gap": null,
            "grid_row": null,
            "grid_template_areas": null,
            "grid_template_columns": null,
            "grid_template_rows": null,
            "height": null,
            "justify_content": null,
            "justify_items": null,
            "left": null,
            "margin": null,
            "max_height": null,
            "max_width": null,
            "min_height": null,
            "min_width": null,
            "object_fit": null,
            "object_position": null,
            "order": null,
            "overflow": null,
            "overflow_x": null,
            "overflow_y": null,
            "padding": null,
            "right": null,
            "top": null,
            "visibility": null,
            "width": null
          }
        },
        "6a5453b8dde04554a63d58e6192e7508": {
          "model_module": "@jupyter-widgets/controls",
          "model_name": "ProgressStyleModel",
          "model_module_version": "1.5.0",
          "state": {
            "_model_module": "@jupyter-widgets/controls",
            "_model_module_version": "1.5.0",
            "_model_name": "ProgressStyleModel",
            "_view_count": null,
            "_view_module": "@jupyter-widgets/base",
            "_view_module_version": "1.2.0",
            "_view_name": "StyleView",
            "bar_color": null,
            "description_width": ""
          }
        },
        "623ca83d93874955a34d97a528e9be3e": {
          "model_module": "@jupyter-widgets/base",
          "model_name": "LayoutModel",
          "model_module_version": "1.2.0",
          "state": {
            "_model_module": "@jupyter-widgets/base",
            "_model_module_version": "1.2.0",
            "_model_name": "LayoutModel",
            "_view_count": null,
            "_view_module": "@jupyter-widgets/base",
            "_view_module_version": "1.2.0",
            "_view_name": "LayoutView",
            "align_content": null,
            "align_items": null,
            "align_self": null,
            "border": null,
            "bottom": null,
            "display": null,
            "flex": null,
            "flex_flow": null,
            "grid_area": null,
            "grid_auto_columns": null,
            "grid_auto_flow": null,
            "grid_auto_rows": null,
            "grid_column": null,
            "grid_gap": null,
            "grid_row": null,
            "grid_template_areas": null,
            "grid_template_columns": null,
            "grid_template_rows": null,
            "height": null,
            "justify_content": null,
            "justify_items": null,
            "left": null,
            "margin": null,
            "max_height": null,
            "max_width": null,
            "min_height": null,
            "min_width": null,
            "object_fit": null,
            "object_position": null,
            "order": null,
            "overflow": null,
            "overflow_x": null,
            "overflow_y": null,
            "padding": null,
            "right": null,
            "top": null,
            "visibility": null,
            "width": null
          }
        },
        "c2a550aaefc1410987dca5f70a6d571c": {
          "model_module": "@jupyter-widgets/controls",
          "model_name": "DescriptionStyleModel",
          "model_module_version": "1.5.0",
          "state": {
            "_model_module": "@jupyter-widgets/controls",
            "_model_module_version": "1.5.0",
            "_model_name": "DescriptionStyleModel",
            "_view_count": null,
            "_view_module": "@jupyter-widgets/base",
            "_view_module_version": "1.2.0",
            "_view_name": "StyleView",
            "description_width": ""
          }
        },
        "225554ffedfb42babdffee238cc2b036": {
          "model_module": "@jupyter-widgets/controls",
          "model_name": "HBoxModel",
          "model_module_version": "1.5.0",
          "state": {
            "_dom_classes": [],
            "_model_module": "@jupyter-widgets/controls",
            "_model_module_version": "1.5.0",
            "_model_name": "HBoxModel",
            "_view_count": null,
            "_view_module": "@jupyter-widgets/controls",
            "_view_module_version": "1.5.0",
            "_view_name": "HBoxView",
            "box_style": "",
            "children": [
              "IPY_MODEL_10924e6420c94cb8a8fa722e1666f05a",
              "IPY_MODEL_f49490ed255f49bf908645db6f137410",
              "IPY_MODEL_0142782eeb4c480fb49b8395fc636b42"
            ],
            "layout": "IPY_MODEL_c5ef19fc213b4891bf09a2db8721fed1"
          }
        },
        "10924e6420c94cb8a8fa722e1666f05a": {
          "model_module": "@jupyter-widgets/controls",
          "model_name": "HTMLModel",
          "model_module_version": "1.5.0",
          "state": {
            "_dom_classes": [],
            "_model_module": "@jupyter-widgets/controls",
            "_model_module_version": "1.5.0",
            "_model_name": "HTMLModel",
            "_view_count": null,
            "_view_module": "@jupyter-widgets/controls",
            "_view_module_version": "1.5.0",
            "_view_name": "HTMLView",
            "description": "",
            "description_tooltip": null,
            "layout": "IPY_MODEL_9b517ce346964dc18b3b0051620fab0a",
            "placeholder": "​",
            "style": "IPY_MODEL_164ed83172aa4af3b2477cd827c6985c",
            "value": "Downloading data files: 100%"
          }
        },
        "f49490ed255f49bf908645db6f137410": {
          "model_module": "@jupyter-widgets/controls",
          "model_name": "FloatProgressModel",
          "model_module_version": "1.5.0",
          "state": {
            "_dom_classes": [],
            "_model_module": "@jupyter-widgets/controls",
            "_model_module_version": "1.5.0",
            "_model_name": "FloatProgressModel",
            "_view_count": null,
            "_view_module": "@jupyter-widgets/controls",
            "_view_module_version": "1.5.0",
            "_view_name": "ProgressView",
            "bar_style": "success",
            "description": "",
            "description_tooltip": null,
            "layout": "IPY_MODEL_8648725ae1974c4aa77924b4947146d6",
            "max": 1,
            "min": 0,
            "orientation": "horizontal",
            "style": "IPY_MODEL_d63624b8d0fd4db284d6ecd5fa9de865",
            "value": 1
          }
        },
        "0142782eeb4c480fb49b8395fc636b42": {
          "model_module": "@jupyter-widgets/controls",
          "model_name": "HTMLModel",
          "model_module_version": "1.5.0",
          "state": {
            "_dom_classes": [],
            "_model_module": "@jupyter-widgets/controls",
            "_model_module_version": "1.5.0",
            "_model_name": "HTMLModel",
            "_view_count": null,
            "_view_module": "@jupyter-widgets/controls",
            "_view_module_version": "1.5.0",
            "_view_name": "HTMLView",
            "description": "",
            "description_tooltip": null,
            "layout": "IPY_MODEL_4ed2d9baa6204854ba431add41489176",
            "placeholder": "​",
            "style": "IPY_MODEL_a56d737c5ce04202b5501cef327b4981",
            "value": " 1/1 [00:26&lt;00:00, 26.26s/it]"
          }
        },
        "c5ef19fc213b4891bf09a2db8721fed1": {
          "model_module": "@jupyter-widgets/base",
          "model_name": "LayoutModel",
          "model_module_version": "1.2.0",
          "state": {
            "_model_module": "@jupyter-widgets/base",
            "_model_module_version": "1.2.0",
            "_model_name": "LayoutModel",
            "_view_count": null,
            "_view_module": "@jupyter-widgets/base",
            "_view_module_version": "1.2.0",
            "_view_name": "LayoutView",
            "align_content": null,
            "align_items": null,
            "align_self": null,
            "border": null,
            "bottom": null,
            "display": null,
            "flex": null,
            "flex_flow": null,
            "grid_area": null,
            "grid_auto_columns": null,
            "grid_auto_flow": null,
            "grid_auto_rows": null,
            "grid_column": null,
            "grid_gap": null,
            "grid_row": null,
            "grid_template_areas": null,
            "grid_template_columns": null,
            "grid_template_rows": null,
            "height": null,
            "justify_content": null,
            "justify_items": null,
            "left": null,
            "margin": null,
            "max_height": null,
            "max_width": null,
            "min_height": null,
            "min_width": null,
            "object_fit": null,
            "object_position": null,
            "order": null,
            "overflow": null,
            "overflow_x": null,
            "overflow_y": null,
            "padding": null,
            "right": null,
            "top": null,
            "visibility": null,
            "width": null
          }
        },
        "9b517ce346964dc18b3b0051620fab0a": {
          "model_module": "@jupyter-widgets/base",
          "model_name": "LayoutModel",
          "model_module_version": "1.2.0",
          "state": {
            "_model_module": "@jupyter-widgets/base",
            "_model_module_version": "1.2.0",
            "_model_name": "LayoutModel",
            "_view_count": null,
            "_view_module": "@jupyter-widgets/base",
            "_view_module_version": "1.2.0",
            "_view_name": "LayoutView",
            "align_content": null,
            "align_items": null,
            "align_self": null,
            "border": null,
            "bottom": null,
            "display": null,
            "flex": null,
            "flex_flow": null,
            "grid_area": null,
            "grid_auto_columns": null,
            "grid_auto_flow": null,
            "grid_auto_rows": null,
            "grid_column": null,
            "grid_gap": null,
            "grid_row": null,
            "grid_template_areas": null,
            "grid_template_columns": null,
            "grid_template_rows": null,
            "height": null,
            "justify_content": null,
            "justify_items": null,
            "left": null,
            "margin": null,
            "max_height": null,
            "max_width": null,
            "min_height": null,
            "min_width": null,
            "object_fit": null,
            "object_position": null,
            "order": null,
            "overflow": null,
            "overflow_x": null,
            "overflow_y": null,
            "padding": null,
            "right": null,
            "top": null,
            "visibility": null,
            "width": null
          }
        },
        "164ed83172aa4af3b2477cd827c6985c": {
          "model_module": "@jupyter-widgets/controls",
          "model_name": "DescriptionStyleModel",
          "model_module_version": "1.5.0",
          "state": {
            "_model_module": "@jupyter-widgets/controls",
            "_model_module_version": "1.5.0",
            "_model_name": "DescriptionStyleModel",
            "_view_count": null,
            "_view_module": "@jupyter-widgets/base",
            "_view_module_version": "1.2.0",
            "_view_name": "StyleView",
            "description_width": ""
          }
        },
        "8648725ae1974c4aa77924b4947146d6": {
          "model_module": "@jupyter-widgets/base",
          "model_name": "LayoutModel",
          "model_module_version": "1.2.0",
          "state": {
            "_model_module": "@jupyter-widgets/base",
            "_model_module_version": "1.2.0",
            "_model_name": "LayoutModel",
            "_view_count": null,
            "_view_module": "@jupyter-widgets/base",
            "_view_module_version": "1.2.0",
            "_view_name": "LayoutView",
            "align_content": null,
            "align_items": null,
            "align_self": null,
            "border": null,
            "bottom": null,
            "display": null,
            "flex": null,
            "flex_flow": null,
            "grid_area": null,
            "grid_auto_columns": null,
            "grid_auto_flow": null,
            "grid_auto_rows": null,
            "grid_column": null,
            "grid_gap": null,
            "grid_row": null,
            "grid_template_areas": null,
            "grid_template_columns": null,
            "grid_template_rows": null,
            "height": null,
            "justify_content": null,
            "justify_items": null,
            "left": null,
            "margin": null,
            "max_height": null,
            "max_width": null,
            "min_height": null,
            "min_width": null,
            "object_fit": null,
            "object_position": null,
            "order": null,
            "overflow": null,
            "overflow_x": null,
            "overflow_y": null,
            "padding": null,
            "right": null,
            "top": null,
            "visibility": null,
            "width": null
          }
        },
        "d63624b8d0fd4db284d6ecd5fa9de865": {
          "model_module": "@jupyter-widgets/controls",
          "model_name": "ProgressStyleModel",
          "model_module_version": "1.5.0",
          "state": {
            "_model_module": "@jupyter-widgets/controls",
            "_model_module_version": "1.5.0",
            "_model_name": "ProgressStyleModel",
            "_view_count": null,
            "_view_module": "@jupyter-widgets/base",
            "_view_module_version": "1.2.0",
            "_view_name": "StyleView",
            "bar_color": null,
            "description_width": ""
          }
        },
        "4ed2d9baa6204854ba431add41489176": {
          "model_module": "@jupyter-widgets/base",
          "model_name": "LayoutModel",
          "model_module_version": "1.2.0",
          "state": {
            "_model_module": "@jupyter-widgets/base",
            "_model_module_version": "1.2.0",
            "_model_name": "LayoutModel",
            "_view_count": null,
            "_view_module": "@jupyter-widgets/base",
            "_view_module_version": "1.2.0",
            "_view_name": "LayoutView",
            "align_content": null,
            "align_items": null,
            "align_self": null,
            "border": null,
            "bottom": null,
            "display": null,
            "flex": null,
            "flex_flow": null,
            "grid_area": null,
            "grid_auto_columns": null,
            "grid_auto_flow": null,
            "grid_auto_rows": null,
            "grid_column": null,
            "grid_gap": null,
            "grid_row": null,
            "grid_template_areas": null,
            "grid_template_columns": null,
            "grid_template_rows": null,
            "height": null,
            "justify_content": null,
            "justify_items": null,
            "left": null,
            "margin": null,
            "max_height": null,
            "max_width": null,
            "min_height": null,
            "min_width": null,
            "object_fit": null,
            "object_position": null,
            "order": null,
            "overflow": null,
            "overflow_x": null,
            "overflow_y": null,
            "padding": null,
            "right": null,
            "top": null,
            "visibility": null,
            "width": null
          }
        },
        "a56d737c5ce04202b5501cef327b4981": {
          "model_module": "@jupyter-widgets/controls",
          "model_name": "DescriptionStyleModel",
          "model_module_version": "1.5.0",
          "state": {
            "_model_module": "@jupyter-widgets/controls",
            "_model_module_version": "1.5.0",
            "_model_name": "DescriptionStyleModel",
            "_view_count": null,
            "_view_module": "@jupyter-widgets/base",
            "_view_module_version": "1.2.0",
            "_view_name": "StyleView",
            "description_width": ""
          }
        },
        "da15a0522881420ea871ae3f64503642": {
          "model_module": "@jupyter-widgets/controls",
          "model_name": "HBoxModel",
          "model_module_version": "1.5.0",
          "state": {
            "_dom_classes": [],
            "_model_module": "@jupyter-widgets/controls",
            "_model_module_version": "1.5.0",
            "_model_name": "HBoxModel",
            "_view_count": null,
            "_view_module": "@jupyter-widgets/controls",
            "_view_module_version": "1.5.0",
            "_view_name": "HBoxView",
            "box_style": "",
            "children": [
              "IPY_MODEL_2897d8814e8b4903ac0d0638bc205adf",
              "IPY_MODEL_cf2d016b8ad64a1bba1d00539ddc6e1d",
              "IPY_MODEL_5d445ecc996f4d92945ef4238f7008fe"
            ],
            "layout": "IPY_MODEL_728a1053222b4ddb9738ef6112046e6f"
          }
        },
        "2897d8814e8b4903ac0d0638bc205adf": {
          "model_module": "@jupyter-widgets/controls",
          "model_name": "HTMLModel",
          "model_module_version": "1.5.0",
          "state": {
            "_dom_classes": [],
            "_model_module": "@jupyter-widgets/controls",
            "_model_module_version": "1.5.0",
            "_model_name": "HTMLModel",
            "_view_count": null,
            "_view_module": "@jupyter-widgets/controls",
            "_view_module_version": "1.5.0",
            "_view_name": "HTMLView",
            "description": "",
            "description_tooltip": null,
            "layout": "IPY_MODEL_42eca71ff5eb41269a6bb22306e82011",
            "placeholder": "​",
            "style": "IPY_MODEL_2518dd31da404debb22edcc29bf94fc7",
            "value": "Downloading data: 100%"
          }
        },
        "cf2d016b8ad64a1bba1d00539ddc6e1d": {
          "model_module": "@jupyter-widgets/controls",
          "model_name": "FloatProgressModel",
          "model_module_version": "1.5.0",
          "state": {
            "_dom_classes": [],
            "_model_module": "@jupyter-widgets/controls",
            "_model_module_version": "1.5.0",
            "_model_name": "FloatProgressModel",
            "_view_count": null,
            "_view_module": "@jupyter-widgets/controls",
            "_view_module_version": "1.5.0",
            "_view_name": "ProgressView",
            "bar_style": "success",
            "description": "",
            "description_tooltip": null,
            "layout": "IPY_MODEL_5b06194a94734f7e80212f5d27c40124",
            "max": 257869459,
            "min": 0,
            "orientation": "horizontal",
            "style": "IPY_MODEL_a22fa1c12c88499988479f591c2e1910",
            "value": 257869459
          }
        },
        "5d445ecc996f4d92945ef4238f7008fe": {
          "model_module": "@jupyter-widgets/controls",
          "model_name": "HTMLModel",
          "model_module_version": "1.5.0",
          "state": {
            "_dom_classes": [],
            "_model_module": "@jupyter-widgets/controls",
            "_model_module_version": "1.5.0",
            "_model_name": "HTMLModel",
            "_view_count": null,
            "_view_module": "@jupyter-widgets/controls",
            "_view_module_version": "1.5.0",
            "_view_name": "HTMLView",
            "description": "",
            "description_tooltip": null,
            "layout": "IPY_MODEL_5932e64091df40c8a882ef609b77582c",
            "placeholder": "​",
            "style": "IPY_MODEL_e92d30f0cd6d4362bd6253a619483a1f",
            "value": " 258M/258M [00:26&lt;00:00, 13.0MB/s]"
          }
        },
        "728a1053222b4ddb9738ef6112046e6f": {
          "model_module": "@jupyter-widgets/base",
          "model_name": "LayoutModel",
          "model_module_version": "1.2.0",
          "state": {
            "_model_module": "@jupyter-widgets/base",
            "_model_module_version": "1.2.0",
            "_model_name": "LayoutModel",
            "_view_count": null,
            "_view_module": "@jupyter-widgets/base",
            "_view_module_version": "1.2.0",
            "_view_name": "LayoutView",
            "align_content": null,
            "align_items": null,
            "align_self": null,
            "border": null,
            "bottom": null,
            "display": null,
            "flex": null,
            "flex_flow": null,
            "grid_area": null,
            "grid_auto_columns": null,
            "grid_auto_flow": null,
            "grid_auto_rows": null,
            "grid_column": null,
            "grid_gap": null,
            "grid_row": null,
            "grid_template_areas": null,
            "grid_template_columns": null,
            "grid_template_rows": null,
            "height": null,
            "justify_content": null,
            "justify_items": null,
            "left": null,
            "margin": null,
            "max_height": null,
            "max_width": null,
            "min_height": null,
            "min_width": null,
            "object_fit": null,
            "object_position": null,
            "order": null,
            "overflow": null,
            "overflow_x": null,
            "overflow_y": null,
            "padding": null,
            "right": null,
            "top": null,
            "visibility": null,
            "width": null
          }
        },
        "42eca71ff5eb41269a6bb22306e82011": {
          "model_module": "@jupyter-widgets/base",
          "model_name": "LayoutModel",
          "model_module_version": "1.2.0",
          "state": {
            "_model_module": "@jupyter-widgets/base",
            "_model_module_version": "1.2.0",
            "_model_name": "LayoutModel",
            "_view_count": null,
            "_view_module": "@jupyter-widgets/base",
            "_view_module_version": "1.2.0",
            "_view_name": "LayoutView",
            "align_content": null,
            "align_items": null,
            "align_self": null,
            "border": null,
            "bottom": null,
            "display": null,
            "flex": null,
            "flex_flow": null,
            "grid_area": null,
            "grid_auto_columns": null,
            "grid_auto_flow": null,
            "grid_auto_rows": null,
            "grid_column": null,
            "grid_gap": null,
            "grid_row": null,
            "grid_template_areas": null,
            "grid_template_columns": null,
            "grid_template_rows": null,
            "height": null,
            "justify_content": null,
            "justify_items": null,
            "left": null,
            "margin": null,
            "max_height": null,
            "max_width": null,
            "min_height": null,
            "min_width": null,
            "object_fit": null,
            "object_position": null,
            "order": null,
            "overflow": null,
            "overflow_x": null,
            "overflow_y": null,
            "padding": null,
            "right": null,
            "top": null,
            "visibility": null,
            "width": null
          }
        },
        "2518dd31da404debb22edcc29bf94fc7": {
          "model_module": "@jupyter-widgets/controls",
          "model_name": "DescriptionStyleModel",
          "model_module_version": "1.5.0",
          "state": {
            "_model_module": "@jupyter-widgets/controls",
            "_model_module_version": "1.5.0",
            "_model_name": "DescriptionStyleModel",
            "_view_count": null,
            "_view_module": "@jupyter-widgets/base",
            "_view_module_version": "1.2.0",
            "_view_name": "StyleView",
            "description_width": ""
          }
        },
        "5b06194a94734f7e80212f5d27c40124": {
          "model_module": "@jupyter-widgets/base",
          "model_name": "LayoutModel",
          "model_module_version": "1.2.0",
          "state": {
            "_model_module": "@jupyter-widgets/base",
            "_model_module_version": "1.2.0",
            "_model_name": "LayoutModel",
            "_view_count": null,
            "_view_module": "@jupyter-widgets/base",
            "_view_module_version": "1.2.0",
            "_view_name": "LayoutView",
            "align_content": null,
            "align_items": null,
            "align_self": null,
            "border": null,
            "bottom": null,
            "display": null,
            "flex": null,
            "flex_flow": null,
            "grid_area": null,
            "grid_auto_columns": null,
            "grid_auto_flow": null,
            "grid_auto_rows": null,
            "grid_column": null,
            "grid_gap": null,
            "grid_row": null,
            "grid_template_areas": null,
            "grid_template_columns": null,
            "grid_template_rows": null,
            "height": null,
            "justify_content": null,
            "justify_items": null,
            "left": null,
            "margin": null,
            "max_height": null,
            "max_width": null,
            "min_height": null,
            "min_width": null,
            "object_fit": null,
            "object_position": null,
            "order": null,
            "overflow": null,
            "overflow_x": null,
            "overflow_y": null,
            "padding": null,
            "right": null,
            "top": null,
            "visibility": null,
            "width": null
          }
        },
        "a22fa1c12c88499988479f591c2e1910": {
          "model_module": "@jupyter-widgets/controls",
          "model_name": "ProgressStyleModel",
          "model_module_version": "1.5.0",
          "state": {
            "_model_module": "@jupyter-widgets/controls",
            "_model_module_version": "1.5.0",
            "_model_name": "ProgressStyleModel",
            "_view_count": null,
            "_view_module": "@jupyter-widgets/base",
            "_view_module_version": "1.2.0",
            "_view_name": "StyleView",
            "bar_color": null,
            "description_width": ""
          }
        },
        "5932e64091df40c8a882ef609b77582c": {
          "model_module": "@jupyter-widgets/base",
          "model_name": "LayoutModel",
          "model_module_version": "1.2.0",
          "state": {
            "_model_module": "@jupyter-widgets/base",
            "_model_module_version": "1.2.0",
            "_model_name": "LayoutModel",
            "_view_count": null,
            "_view_module": "@jupyter-widgets/base",
            "_view_module_version": "1.2.0",
            "_view_name": "LayoutView",
            "align_content": null,
            "align_items": null,
            "align_self": null,
            "border": null,
            "bottom": null,
            "display": null,
            "flex": null,
            "flex_flow": null,
            "grid_area": null,
            "grid_auto_columns": null,
            "grid_auto_flow": null,
            "grid_auto_rows": null,
            "grid_column": null,
            "grid_gap": null,
            "grid_row": null,
            "grid_template_areas": null,
            "grid_template_columns": null,
            "grid_template_rows": null,
            "height": null,
            "justify_content": null,
            "justify_items": null,
            "left": null,
            "margin": null,
            "max_height": null,
            "max_width": null,
            "min_height": null,
            "min_width": null,
            "object_fit": null,
            "object_position": null,
            "order": null,
            "overflow": null,
            "overflow_x": null,
            "overflow_y": null,
            "padding": null,
            "right": null,
            "top": null,
            "visibility": null,
            "width": null
          }
        },
        "e92d30f0cd6d4362bd6253a619483a1f": {
          "model_module": "@jupyter-widgets/controls",
          "model_name": "DescriptionStyleModel",
          "model_module_version": "1.5.0",
          "state": {
            "_model_module": "@jupyter-widgets/controls",
            "_model_module_version": "1.5.0",
            "_model_name": "DescriptionStyleModel",
            "_view_count": null,
            "_view_module": "@jupyter-widgets/base",
            "_view_module_version": "1.2.0",
            "_view_name": "StyleView",
            "description_width": ""
          }
        },
        "30a4e69016c541468dd1e1bddf176cda": {
          "model_module": "@jupyter-widgets/controls",
          "model_name": "HBoxModel",
          "model_module_version": "1.5.0",
          "state": {
            "_dom_classes": [],
            "_model_module": "@jupyter-widgets/controls",
            "_model_module_version": "1.5.0",
            "_model_name": "HBoxModel",
            "_view_count": null,
            "_view_module": "@jupyter-widgets/controls",
            "_view_module_version": "1.5.0",
            "_view_name": "HBoxView",
            "box_style": "",
            "children": [
              "IPY_MODEL_cdf0a985b12241c4a3d3548594edc45b",
              "IPY_MODEL_f84fd1bded5b457bb7aae9d93ec66759",
              "IPY_MODEL_e646b0675fe2400c9cd5c3be022fd14e"
            ],
            "layout": "IPY_MODEL_3f59230e5f984d1cb886873aec06b15b"
          }
        },
        "cdf0a985b12241c4a3d3548594edc45b": {
          "model_module": "@jupyter-widgets/controls",
          "model_name": "HTMLModel",
          "model_module_version": "1.5.0",
          "state": {
            "_dom_classes": [],
            "_model_module": "@jupyter-widgets/controls",
            "_model_module_version": "1.5.0",
            "_model_name": "HTMLModel",
            "_view_count": null,
            "_view_module": "@jupyter-widgets/controls",
            "_view_module_version": "1.5.0",
            "_view_name": "HTMLView",
            "description": "",
            "description_tooltip": null,
            "layout": "IPY_MODEL_dc06472afed54880b098a6d2c256bd7e",
            "placeholder": "​",
            "style": "IPY_MODEL_ab5c962492c441f0956f6b5a456859e1",
            "value": "Extracting data files: 100%"
          }
        },
        "f84fd1bded5b457bb7aae9d93ec66759": {
          "model_module": "@jupyter-widgets/controls",
          "model_name": "FloatProgressModel",
          "model_module_version": "1.5.0",
          "state": {
            "_dom_classes": [],
            "_model_module": "@jupyter-widgets/controls",
            "_model_module_version": "1.5.0",
            "_model_name": "FloatProgressModel",
            "_view_count": null,
            "_view_module": "@jupyter-widgets/controls",
            "_view_module_version": "1.5.0",
            "_view_name": "ProgressView",
            "bar_style": "success",
            "description": "",
            "description_tooltip": null,
            "layout": "IPY_MODEL_0480ab26443c45a98bc909b6c7e3306b",
            "max": 1,
            "min": 0,
            "orientation": "horizontal",
            "style": "IPY_MODEL_366ff52b6cc540b8bcd6394dac28eff8",
            "value": 1
          }
        },
        "e646b0675fe2400c9cd5c3be022fd14e": {
          "model_module": "@jupyter-widgets/controls",
          "model_name": "HTMLModel",
          "model_module_version": "1.5.0",
          "state": {
            "_dom_classes": [],
            "_model_module": "@jupyter-widgets/controls",
            "_model_module_version": "1.5.0",
            "_model_name": "HTMLModel",
            "_view_count": null,
            "_view_module": "@jupyter-widgets/controls",
            "_view_module_version": "1.5.0",
            "_view_name": "HTMLView",
            "description": "",
            "description_tooltip": null,
            "layout": "IPY_MODEL_07724b6a4f334d1eb2610f3eb56cc1e6",
            "placeholder": "​",
            "style": "IPY_MODEL_7f98f286d5c14479bc2d22699b0bc9e0",
            "value": " 1/1 [00:00&lt;00:00, 27.01it/s]"
          }
        },
        "3f59230e5f984d1cb886873aec06b15b": {
          "model_module": "@jupyter-widgets/base",
          "model_name": "LayoutModel",
          "model_module_version": "1.2.0",
          "state": {
            "_model_module": "@jupyter-widgets/base",
            "_model_module_version": "1.2.0",
            "_model_name": "LayoutModel",
            "_view_count": null,
            "_view_module": "@jupyter-widgets/base",
            "_view_module_version": "1.2.0",
            "_view_name": "LayoutView",
            "align_content": null,
            "align_items": null,
            "align_self": null,
            "border": null,
            "bottom": null,
            "display": null,
            "flex": null,
            "flex_flow": null,
            "grid_area": null,
            "grid_auto_columns": null,
            "grid_auto_flow": null,
            "grid_auto_rows": null,
            "grid_column": null,
            "grid_gap": null,
            "grid_row": null,
            "grid_template_areas": null,
            "grid_template_columns": null,
            "grid_template_rows": null,
            "height": null,
            "justify_content": null,
            "justify_items": null,
            "left": null,
            "margin": null,
            "max_height": null,
            "max_width": null,
            "min_height": null,
            "min_width": null,
            "object_fit": null,
            "object_position": null,
            "order": null,
            "overflow": null,
            "overflow_x": null,
            "overflow_y": null,
            "padding": null,
            "right": null,
            "top": null,
            "visibility": null,
            "width": null
          }
        },
        "dc06472afed54880b098a6d2c256bd7e": {
          "model_module": "@jupyter-widgets/base",
          "model_name": "LayoutModel",
          "model_module_version": "1.2.0",
          "state": {
            "_model_module": "@jupyter-widgets/base",
            "_model_module_version": "1.2.0",
            "_model_name": "LayoutModel",
            "_view_count": null,
            "_view_module": "@jupyter-widgets/base",
            "_view_module_version": "1.2.0",
            "_view_name": "LayoutView",
            "align_content": null,
            "align_items": null,
            "align_self": null,
            "border": null,
            "bottom": null,
            "display": null,
            "flex": null,
            "flex_flow": null,
            "grid_area": null,
            "grid_auto_columns": null,
            "grid_auto_flow": null,
            "grid_auto_rows": null,
            "grid_column": null,
            "grid_gap": null,
            "grid_row": null,
            "grid_template_areas": null,
            "grid_template_columns": null,
            "grid_template_rows": null,
            "height": null,
            "justify_content": null,
            "justify_items": null,
            "left": null,
            "margin": null,
            "max_height": null,
            "max_width": null,
            "min_height": null,
            "min_width": null,
            "object_fit": null,
            "object_position": null,
            "order": null,
            "overflow": null,
            "overflow_x": null,
            "overflow_y": null,
            "padding": null,
            "right": null,
            "top": null,
            "visibility": null,
            "width": null
          }
        },
        "ab5c962492c441f0956f6b5a456859e1": {
          "model_module": "@jupyter-widgets/controls",
          "model_name": "DescriptionStyleModel",
          "model_module_version": "1.5.0",
          "state": {
            "_model_module": "@jupyter-widgets/controls",
            "_model_module_version": "1.5.0",
            "_model_name": "DescriptionStyleModel",
            "_view_count": null,
            "_view_module": "@jupyter-widgets/base",
            "_view_module_version": "1.2.0",
            "_view_name": "StyleView",
            "description_width": ""
          }
        },
        "0480ab26443c45a98bc909b6c7e3306b": {
          "model_module": "@jupyter-widgets/base",
          "model_name": "LayoutModel",
          "model_module_version": "1.2.0",
          "state": {
            "_model_module": "@jupyter-widgets/base",
            "_model_module_version": "1.2.0",
            "_model_name": "LayoutModel",
            "_view_count": null,
            "_view_module": "@jupyter-widgets/base",
            "_view_module_version": "1.2.0",
            "_view_name": "LayoutView",
            "align_content": null,
            "align_items": null,
            "align_self": null,
            "border": null,
            "bottom": null,
            "display": null,
            "flex": null,
            "flex_flow": null,
            "grid_area": null,
            "grid_auto_columns": null,
            "grid_auto_flow": null,
            "grid_auto_rows": null,
            "grid_column": null,
            "grid_gap": null,
            "grid_row": null,
            "grid_template_areas": null,
            "grid_template_columns": null,
            "grid_template_rows": null,
            "height": null,
            "justify_content": null,
            "justify_items": null,
            "left": null,
            "margin": null,
            "max_height": null,
            "max_width": null,
            "min_height": null,
            "min_width": null,
            "object_fit": null,
            "object_position": null,
            "order": null,
            "overflow": null,
            "overflow_x": null,
            "overflow_y": null,
            "padding": null,
            "right": null,
            "top": null,
            "visibility": null,
            "width": null
          }
        },
        "366ff52b6cc540b8bcd6394dac28eff8": {
          "model_module": "@jupyter-widgets/controls",
          "model_name": "ProgressStyleModel",
          "model_module_version": "1.5.0",
          "state": {
            "_model_module": "@jupyter-widgets/controls",
            "_model_module_version": "1.5.0",
            "_model_name": "ProgressStyleModel",
            "_view_count": null,
            "_view_module": "@jupyter-widgets/base",
            "_view_module_version": "1.2.0",
            "_view_name": "StyleView",
            "bar_color": null,
            "description_width": ""
          }
        },
        "07724b6a4f334d1eb2610f3eb56cc1e6": {
          "model_module": "@jupyter-widgets/base",
          "model_name": "LayoutModel",
          "model_module_version": "1.2.0",
          "state": {
            "_model_module": "@jupyter-widgets/base",
            "_model_module_version": "1.2.0",
            "_model_name": "LayoutModel",
            "_view_count": null,
            "_view_module": "@jupyter-widgets/base",
            "_view_module_version": "1.2.0",
            "_view_name": "LayoutView",
            "align_content": null,
            "align_items": null,
            "align_self": null,
            "border": null,
            "bottom": null,
            "display": null,
            "flex": null,
            "flex_flow": null,
            "grid_area": null,
            "grid_auto_columns": null,
            "grid_auto_flow": null,
            "grid_auto_rows": null,
            "grid_column": null,
            "grid_gap": null,
            "grid_row": null,
            "grid_template_areas": null,
            "grid_template_columns": null,
            "grid_template_rows": null,
            "height": null,
            "justify_content": null,
            "justify_items": null,
            "left": null,
            "margin": null,
            "max_height": null,
            "max_width": null,
            "min_height": null,
            "min_width": null,
            "object_fit": null,
            "object_position": null,
            "order": null,
            "overflow": null,
            "overflow_x": null,
            "overflow_y": null,
            "padding": null,
            "right": null,
            "top": null,
            "visibility": null,
            "width": null
          }
        },
        "7f98f286d5c14479bc2d22699b0bc9e0": {
          "model_module": "@jupyter-widgets/controls",
          "model_name": "DescriptionStyleModel",
          "model_module_version": "1.5.0",
          "state": {
            "_model_module": "@jupyter-widgets/controls",
            "_model_module_version": "1.5.0",
            "_model_name": "DescriptionStyleModel",
            "_view_count": null,
            "_view_module": "@jupyter-widgets/base",
            "_view_module_version": "1.2.0",
            "_view_name": "StyleView",
            "description_width": ""
          }
        },
        "85a3edda2ebc4b2d92d9657fe8803e1b": {
          "model_module": "@jupyter-widgets/controls",
          "model_name": "HBoxModel",
          "model_module_version": "1.5.0",
          "state": {
            "_dom_classes": [],
            "_model_module": "@jupyter-widgets/controls",
            "_model_module_version": "1.5.0",
            "_model_name": "HBoxModel",
            "_view_count": null,
            "_view_module": "@jupyter-widgets/controls",
            "_view_module_version": "1.5.0",
            "_view_name": "HBoxView",
            "box_style": "",
            "children": [
              "IPY_MODEL_0120e356917d49b7adf99b113a4c2572",
              "IPY_MODEL_23397a3995494b42a81f44a4258680e8",
              "IPY_MODEL_2a99f0435a9142048723264aa09e74d5"
            ],
            "layout": "IPY_MODEL_d0e6a088661e4ad8b0b886db686da37a"
          }
        },
        "0120e356917d49b7adf99b113a4c2572": {
          "model_module": "@jupyter-widgets/controls",
          "model_name": "HTMLModel",
          "model_module_version": "1.5.0",
          "state": {
            "_dom_classes": [],
            "_model_module": "@jupyter-widgets/controls",
            "_model_module_version": "1.5.0",
            "_model_name": "HTMLModel",
            "_view_count": null,
            "_view_module": "@jupyter-widgets/controls",
            "_view_module_version": "1.5.0",
            "_view_name": "HTMLView",
            "description": "",
            "description_tooltip": null,
            "layout": "IPY_MODEL_2d591aadcdac4859aaf463fc1db447bd",
            "placeholder": "​",
            "style": "IPY_MODEL_9f23fc5d9bc041bca358fbb3a89ade2c",
            "value": "Generating train split: 100%"
          }
        },
        "23397a3995494b42a81f44a4258680e8": {
          "model_module": "@jupyter-widgets/controls",
          "model_name": "FloatProgressModel",
          "model_module_version": "1.5.0",
          "state": {
            "_dom_classes": [],
            "_model_module": "@jupyter-widgets/controls",
            "_model_module_version": "1.5.0",
            "_model_name": "FloatProgressModel",
            "_view_count": null,
            "_view_module": "@jupyter-widgets/controls",
            "_view_module_version": "1.5.0",
            "_view_name": "ProgressView",
            "bar_style": "success",
            "description": "",
            "description_tooltip": null,
            "layout": "IPY_MODEL_9e40ac7a1c6a47c9bff569d1920453c5",
            "max": 3796604,
            "min": 0,
            "orientation": "horizontal",
            "style": "IPY_MODEL_60f9e2654a0547f58f75a5be4c8a2c3d",
            "value": 3796604
          }
        },
        "2a99f0435a9142048723264aa09e74d5": {
          "model_module": "@jupyter-widgets/controls",
          "model_name": "HTMLModel",
          "model_module_version": "1.5.0",
          "state": {
            "_dom_classes": [],
            "_model_module": "@jupyter-widgets/controls",
            "_model_module_version": "1.5.0",
            "_model_name": "HTMLModel",
            "_view_count": null,
            "_view_module": "@jupyter-widgets/controls",
            "_view_module_version": "1.5.0",
            "_view_name": "HTMLView",
            "description": "",
            "description_tooltip": null,
            "layout": "IPY_MODEL_5926c24d2a3449e8b5b4213f66f39c4f",
            "placeholder": "​",
            "style": "IPY_MODEL_1d7b1b7b4d174beda54753b33b021bb7",
            "value": " 3796604/3796604 [00:02&lt;00:00, 1667054.19 examples/s]"
          }
        },
        "d0e6a088661e4ad8b0b886db686da37a": {
          "model_module": "@jupyter-widgets/base",
          "model_name": "LayoutModel",
          "model_module_version": "1.2.0",
          "state": {
            "_model_module": "@jupyter-widgets/base",
            "_model_module_version": "1.2.0",
            "_model_name": "LayoutModel",
            "_view_count": null,
            "_view_module": "@jupyter-widgets/base",
            "_view_module_version": "1.2.0",
            "_view_name": "LayoutView",
            "align_content": null,
            "align_items": null,
            "align_self": null,
            "border": null,
            "bottom": null,
            "display": null,
            "flex": null,
            "flex_flow": null,
            "grid_area": null,
            "grid_auto_columns": null,
            "grid_auto_flow": null,
            "grid_auto_rows": null,
            "grid_column": null,
            "grid_gap": null,
            "grid_row": null,
            "grid_template_areas": null,
            "grid_template_columns": null,
            "grid_template_rows": null,
            "height": null,
            "justify_content": null,
            "justify_items": null,
            "left": null,
            "margin": null,
            "max_height": null,
            "max_width": null,
            "min_height": null,
            "min_width": null,
            "object_fit": null,
            "object_position": null,
            "order": null,
            "overflow": null,
            "overflow_x": null,
            "overflow_y": null,
            "padding": null,
            "right": null,
            "top": null,
            "visibility": null,
            "width": null
          }
        },
        "2d591aadcdac4859aaf463fc1db447bd": {
          "model_module": "@jupyter-widgets/base",
          "model_name": "LayoutModel",
          "model_module_version": "1.2.0",
          "state": {
            "_model_module": "@jupyter-widgets/base",
            "_model_module_version": "1.2.0",
            "_model_name": "LayoutModel",
            "_view_count": null,
            "_view_module": "@jupyter-widgets/base",
            "_view_module_version": "1.2.0",
            "_view_name": "LayoutView",
            "align_content": null,
            "align_items": null,
            "align_self": null,
            "border": null,
            "bottom": null,
            "display": null,
            "flex": null,
            "flex_flow": null,
            "grid_area": null,
            "grid_auto_columns": null,
            "grid_auto_flow": null,
            "grid_auto_rows": null,
            "grid_column": null,
            "grid_gap": null,
            "grid_row": null,
            "grid_template_areas": null,
            "grid_template_columns": null,
            "grid_template_rows": null,
            "height": null,
            "justify_content": null,
            "justify_items": null,
            "left": null,
            "margin": null,
            "max_height": null,
            "max_width": null,
            "min_height": null,
            "min_width": null,
            "object_fit": null,
            "object_position": null,
            "order": null,
            "overflow": null,
            "overflow_x": null,
            "overflow_y": null,
            "padding": null,
            "right": null,
            "top": null,
            "visibility": null,
            "width": null
          }
        },
        "9f23fc5d9bc041bca358fbb3a89ade2c": {
          "model_module": "@jupyter-widgets/controls",
          "model_name": "DescriptionStyleModel",
          "model_module_version": "1.5.0",
          "state": {
            "_model_module": "@jupyter-widgets/controls",
            "_model_module_version": "1.5.0",
            "_model_name": "DescriptionStyleModel",
            "_view_count": null,
            "_view_module": "@jupyter-widgets/base",
            "_view_module_version": "1.2.0",
            "_view_name": "StyleView",
            "description_width": ""
          }
        },
        "9e40ac7a1c6a47c9bff569d1920453c5": {
          "model_module": "@jupyter-widgets/base",
          "model_name": "LayoutModel",
          "model_module_version": "1.2.0",
          "state": {
            "_model_module": "@jupyter-widgets/base",
            "_model_module_version": "1.2.0",
            "_model_name": "LayoutModel",
            "_view_count": null,
            "_view_module": "@jupyter-widgets/base",
            "_view_module_version": "1.2.0",
            "_view_name": "LayoutView",
            "align_content": null,
            "align_items": null,
            "align_self": null,
            "border": null,
            "bottom": null,
            "display": null,
            "flex": null,
            "flex_flow": null,
            "grid_area": null,
            "grid_auto_columns": null,
            "grid_auto_flow": null,
            "grid_auto_rows": null,
            "grid_column": null,
            "grid_gap": null,
            "grid_row": null,
            "grid_template_areas": null,
            "grid_template_columns": null,
            "grid_template_rows": null,
            "height": null,
            "justify_content": null,
            "justify_items": null,
            "left": null,
            "margin": null,
            "max_height": null,
            "max_width": null,
            "min_height": null,
            "min_width": null,
            "object_fit": null,
            "object_position": null,
            "order": null,
            "overflow": null,
            "overflow_x": null,
            "overflow_y": null,
            "padding": null,
            "right": null,
            "top": null,
            "visibility": null,
            "width": null
          }
        },
        "60f9e2654a0547f58f75a5be4c8a2c3d": {
          "model_module": "@jupyter-widgets/controls",
          "model_name": "ProgressStyleModel",
          "model_module_version": "1.5.0",
          "state": {
            "_model_module": "@jupyter-widgets/controls",
            "_model_module_version": "1.5.0",
            "_model_name": "ProgressStyleModel",
            "_view_count": null,
            "_view_module": "@jupyter-widgets/base",
            "_view_module_version": "1.2.0",
            "_view_name": "StyleView",
            "bar_color": null,
            "description_width": ""
          }
        },
        "5926c24d2a3449e8b5b4213f66f39c4f": {
          "model_module": "@jupyter-widgets/base",
          "model_name": "LayoutModel",
          "model_module_version": "1.2.0",
          "state": {
            "_model_module": "@jupyter-widgets/base",
            "_model_module_version": "1.2.0",
            "_model_name": "LayoutModel",
            "_view_count": null,
            "_view_module": "@jupyter-widgets/base",
            "_view_module_version": "1.2.0",
            "_view_name": "LayoutView",
            "align_content": null,
            "align_items": null,
            "align_self": null,
            "border": null,
            "bottom": null,
            "display": null,
            "flex": null,
            "flex_flow": null,
            "grid_area": null,
            "grid_auto_columns": null,
            "grid_auto_flow": null,
            "grid_auto_rows": null,
            "grid_column": null,
            "grid_gap": null,
            "grid_row": null,
            "grid_template_areas": null,
            "grid_template_columns": null,
            "grid_template_rows": null,
            "height": null,
            "justify_content": null,
            "justify_items": null,
            "left": null,
            "margin": null,
            "max_height": null,
            "max_width": null,
            "min_height": null,
            "min_width": null,
            "object_fit": null,
            "object_position": null,
            "order": null,
            "overflow": null,
            "overflow_x": null,
            "overflow_y": null,
            "padding": null,
            "right": null,
            "top": null,
            "visibility": null,
            "width": null
          }
        },
        "1d7b1b7b4d174beda54753b33b021bb7": {
          "model_module": "@jupyter-widgets/controls",
          "model_name": "DescriptionStyleModel",
          "model_module_version": "1.5.0",
          "state": {
            "_model_module": "@jupyter-widgets/controls",
            "_model_module_version": "1.5.0",
            "_model_name": "DescriptionStyleModel",
            "_view_count": null,
            "_view_module": "@jupyter-widgets/base",
            "_view_module_version": "1.2.0",
            "_view_name": "StyleView",
            "description_width": ""
          }
        }
      }
    }
  },
  "cells": [
    {
      "cell_type": "markdown",
      "metadata": {
        "id": "view-in-github",
        "colab_type": "text"
      },
      "source": [
        "<a href=\"https://colab.research.google.com/github/Kamiliaadil/Tokenization-Lab/blob/main/tokenization.ipynb\" target=\"_parent\"><img src=\"https://colab.research.google.com/assets/colab-badge.svg\" alt=\"Open In Colab\"/></a>"
      ]
    },
    {
      "cell_type": "markdown",
      "source": [
        "In this lab, I'm starting with the American Stories dataset to get a feel for how the Tokenization code works. After that, I plan to switch to another dataset from Hugging Face called the 'wikitext' dataset. This dataset contains text from Wikipedia articles in Serbian, totaling around 477,473 articles. Additionally, it may include some content from Wikisource."
      ],
      "metadata": {
        "id": "B-wYbMicKkEs"
      }
    },
    {
      "cell_type": "code",
      "source": [
        "!pip install datasets"
      ],
      "metadata": {
        "colab": {
          "base_uri": "https://localhost:8080/"
        },
        "id": "r5Gz0SWhCJlY",
        "outputId": "03226a83-5607-4d67-b0d4-9e2adfc2ffe9"
      },
      "execution_count": null,
      "outputs": [
        {
          "output_type": "stream",
          "name": "stdout",
          "text": [
            "Requirement already satisfied: datasets in /usr/local/lib/python3.10/dist-packages (2.14.5)\n",
            "Requirement already satisfied: numpy>=1.17 in /usr/local/lib/python3.10/dist-packages (from datasets) (1.23.5)\n",
            "Requirement already satisfied: pyarrow>=8.0.0 in /usr/local/lib/python3.10/dist-packages (from datasets) (9.0.0)\n",
            "Requirement already satisfied: dill<0.3.8,>=0.3.0 in /usr/local/lib/python3.10/dist-packages (from datasets) (0.3.7)\n",
            "Requirement already satisfied: pandas in /usr/local/lib/python3.10/dist-packages (from datasets) (1.5.3)\n",
            "Requirement already satisfied: requests>=2.19.0 in /usr/local/lib/python3.10/dist-packages (from datasets) (2.31.0)\n",
            "Requirement already satisfied: tqdm>=4.62.1 in /usr/local/lib/python3.10/dist-packages (from datasets) (4.66.1)\n",
            "Requirement already satisfied: xxhash in /usr/local/lib/python3.10/dist-packages (from datasets) (3.4.1)\n",
            "Requirement already satisfied: multiprocess in /usr/local/lib/python3.10/dist-packages (from datasets) (0.70.15)\n",
            "Requirement already satisfied: fsspec[http]<2023.9.0,>=2023.1.0 in /usr/local/lib/python3.10/dist-packages (from datasets) (2023.6.0)\n",
            "Requirement already satisfied: aiohttp in /usr/local/lib/python3.10/dist-packages (from datasets) (3.8.6)\n",
            "Requirement already satisfied: huggingface-hub<1.0.0,>=0.14.0 in /usr/local/lib/python3.10/dist-packages (from datasets) (0.18.0)\n",
            "Requirement already satisfied: packaging in /usr/local/lib/python3.10/dist-packages (from datasets) (23.2)\n",
            "Requirement already satisfied: pyyaml>=5.1 in /usr/local/lib/python3.10/dist-packages (from datasets) (6.0.1)\n",
            "Requirement already satisfied: attrs>=17.3.0 in /usr/local/lib/python3.10/dist-packages (from aiohttp->datasets) (23.1.0)\n",
            "Requirement already satisfied: charset-normalizer<4.0,>=2.0 in /usr/local/lib/python3.10/dist-packages (from aiohttp->datasets) (3.3.0)\n",
            "Requirement already satisfied: multidict<7.0,>=4.5 in /usr/local/lib/python3.10/dist-packages (from aiohttp->datasets) (6.0.4)\n",
            "Requirement already satisfied: async-timeout<5.0,>=4.0.0a3 in /usr/local/lib/python3.10/dist-packages (from aiohttp->datasets) (4.0.3)\n",
            "Requirement already satisfied: yarl<2.0,>=1.0 in /usr/local/lib/python3.10/dist-packages (from aiohttp->datasets) (1.9.2)\n",
            "Requirement already satisfied: frozenlist>=1.1.1 in /usr/local/lib/python3.10/dist-packages (from aiohttp->datasets) (1.4.0)\n",
            "Requirement already satisfied: aiosignal>=1.1.2 in /usr/local/lib/python3.10/dist-packages (from aiohttp->datasets) (1.3.1)\n",
            "Requirement already satisfied: filelock in /usr/local/lib/python3.10/dist-packages (from huggingface-hub<1.0.0,>=0.14.0->datasets) (3.12.4)\n",
            "Requirement already satisfied: typing-extensions>=3.7.4.3 in /usr/local/lib/python3.10/dist-packages (from huggingface-hub<1.0.0,>=0.14.0->datasets) (4.5.0)\n",
            "Requirement already satisfied: idna<4,>=2.5 in /usr/local/lib/python3.10/dist-packages (from requests>=2.19.0->datasets) (3.4)\n",
            "Requirement already satisfied: urllib3<3,>=1.21.1 in /usr/local/lib/python3.10/dist-packages (from requests>=2.19.0->datasets) (2.0.7)\n",
            "Requirement already satisfied: certifi>=2017.4.17 in /usr/local/lib/python3.10/dist-packages (from requests>=2.19.0->datasets) (2023.7.22)\n",
            "Requirement already satisfied: python-dateutil>=2.8.1 in /usr/local/lib/python3.10/dist-packages (from pandas->datasets) (2.8.2)\n",
            "Requirement already satisfied: pytz>=2020.1 in /usr/local/lib/python3.10/dist-packages (from pandas->datasets) (2023.3.post1)\n",
            "Requirement already satisfied: six>=1.5 in /usr/local/lib/python3.10/dist-packages (from python-dateutil>=2.8.1->pandas->datasets) (1.16.0)\n"
          ]
        }
      ]
    },
    {
      "cell_type": "code",
      "source": [
        "import nltk\n",
        "import timeit\n",
        "from datasets import load_dataset"
      ],
      "metadata": {
        "id": "_Mo-83dZCJg-"
      },
      "execution_count": null,
      "outputs": []
    },
    {
      "cell_type": "markdown",
      "source": [
        "#American Stories Dataset"
      ],
      "metadata": {
        "id": "HXr-8y7i-Sl8"
      }
    },
    {
      "cell_type": "code",
      "source": [
        "# Decide what year you want between 1810 and 1963\n",
        "my_year = \"1950\"\n",
        "\n",
        "# Decide how many articles you want to work with\n",
        "num_articles = 10\n",
        "\n",
        "#  Download data for your choice of year (1810 to 1963)\n",
        "dataset = load_dataset(\"dell-research-harvard/AmericanStories\",\n",
        "    \"subset_years\",\n",
        "    year_list=[my_year]\n",
        ")\n",
        "\n",
        "# Get the first n articles from that year\n",
        "# instantiate the counter\n",
        "i=0\n",
        "# instantiate the string\n",
        "my_articles = ''\n",
        "# loop through each article for that year\n",
        "for article in dataset[my_year]:\n",
        "    #the article is a dictionary,\n",
        "    #we're getting the text of the article by accessing the key, \"article\"\n",
        "    my_articles += article.get('article')\n",
        "    #add one to our counter\n",
        "    i+=1\n",
        "    #if the counter is greater than num_articles-1, stop looping\n",
        "    if i>(num_articles-1): break"
      ],
      "metadata": {
        "id": "x2zUQ4us-SPF"
      },
      "execution_count": null,
      "outputs": []
    },
    {
      "cell_type": "code",
      "source": [
        "#remove new line and other formatting characters\n",
        "for char in [\"\\n\", \"\\r\", \"\\d\", \"\\t\"]:\n",
        "    my_articles = my_articles.replace(char, \" \")\n",
        "my_articles[:1000]"
      ],
      "metadata": {
        "colab": {
          "base_uri": "https://localhost:8080/",
          "height": 122
        },
        "id": "l4K1b-C3-SKR",
        "outputId": "23da36fa-d675-4f0b-86aa-77b1e839437b"
      },
      "execution_count": null,
      "outputs": [
        {
          "output_type": "execute_result",
          "data": {
            "text/plain": [
              "\"ONE HOLSTEIN MILK COW-Will have 3rd calf this month; one 6-yr.- old mare, broken to work with a q nr9la moving ea @sehae fsnsls IL seod soadon hGGSs M. GASSETT, LO. 3-S594. % GUERNSEY cow and 2-month-o -old heifer calf, for sale. Call TO. 5413. BERKSHIRE BROOD sows, some registered; 8 choice pigs; excellent soRREL ssSia tG RDN ISL tsdaS aSRsI sE xs zhss whit. hands tall; excellent condition; gentle snSo: SIS aa;hs' dE. 41ss. Ia '0' ia0' OF 'niio' BOARD AND BOX STALL for your horse. Potomac Hunt Club area. Rockville 364S.   EXCELLENT HUNTER - Handsome chestnut gelding, 1873 hands. can lady; success in horse shows; safe, willing jumper; smooth gaits for hacking. quiet, well hammered; rea- sonable price for this perfectly schooled horse. Tower 5044. PALoMINO STALLION, white mark ings, 8 years old, fine blood line, MR s1ea eRoxTa eeRisoeSxsTls9Sa gf s s6ss s5ssen to ride WORK MARE, 5-year -old, black short and stocky. Farm broken. 81. HEREFORD HEFERS, 10 mead, some bred, purebred bull. SH.\""
            ],
            "application/vnd.google.colaboratory.intrinsic+json": {
              "type": "string"
            }
          },
          "metadata": {},
          "execution_count": 17
        }
      ]
    },
    {
      "cell_type": "markdown",
      "source": [
        "#Whitespace Tokenization"
      ],
      "metadata": {
        "id": "rhDxGziG_EkN"
      }
    },
    {
      "cell_type": "code",
      "source": [
        "%%time\n",
        "#this is a magic function to determine how long a cell takes to run.\n",
        "#It MUST be the first thing in a cell\n",
        "\n",
        "#split the whole string on spaces. This returns a list\n",
        "whitespace_tokens = my_articles.split(' ')\n",
        "\n",
        "#check the list\n",
        "whitespace_tokens[:20]"
      ],
      "metadata": {
        "colab": {
          "base_uri": "https://localhost:8080/"
        },
        "id": "KKQpSrfj-SFA",
        "outputId": "408e716b-ff1b-4e88-c29e-a4b8c2e66075"
      },
      "execution_count": null,
      "outputs": [
        {
          "output_type": "stream",
          "name": "stdout",
          "text": [
            "CPU times: user 152 µs, sys: 8 µs, total: 160 µs\n",
            "Wall time: 164 µs\n"
          ]
        },
        {
          "output_type": "execute_result",
          "data": {
            "text/plain": [
              "['ONE',\n",
              " 'HOLSTEIN',\n",
              " 'MILK',\n",
              " 'COW-Will',\n",
              " 'have',\n",
              " '3rd',\n",
              " 'calf',\n",
              " 'this',\n",
              " 'month;',\n",
              " 'one',\n",
              " '6-yr.-',\n",
              " 'old',\n",
              " 'mare,',\n",
              " 'broken',\n",
              " 'to',\n",
              " 'work',\n",
              " 'with',\n",
              " 'a',\n",
              " 'q',\n",
              " 'nr9la']"
            ]
          },
          "metadata": {},
          "execution_count": 18
        }
      ]
    },
    {
      "cell_type": "markdown",
      "source": [
        "# Morphological Tokenization"
      ],
      "metadata": {
        "id": "Cea0DR1P_XQo"
      }
    },
    {
      "cell_type": "code",
      "source": [
        "nltk.download('wordnet')\n",
        "nltk.download('omw-1.4')"
      ],
      "metadata": {
        "colab": {
          "base_uri": "https://localhost:8080/"
        },
        "id": "z1-IvyTM-R_6",
        "outputId": "5738f0ad-28e2-42e2-9ddf-05fca812ec88"
      },
      "execution_count": null,
      "outputs": [
        {
          "output_type": "stream",
          "name": "stderr",
          "text": [
            "[nltk_data] Downloading package wordnet to /root/nltk_data...\n",
            "[nltk_data]   Package wordnet is already up-to-date!\n",
            "[nltk_data] Downloading package omw-1.4 to /root/nltk_data...\n",
            "[nltk_data]   Package omw-1.4 is already up-to-date!\n"
          ]
        },
        {
          "output_type": "execute_result",
          "data": {
            "text/plain": [
              "True"
            ]
          },
          "metadata": {},
          "execution_count": 19
        }
      ]
    },
    {
      "cell_type": "code",
      "source": [
        "#This lemmatizer is based on the Morphy project above\n",
        "from nltk.stem import WordNetLemmatizer\n",
        "wn_lemmatizer = WordNetLemmatizer()"
      ],
      "metadata": {
        "id": "ydmRP9jG-R7J"
      },
      "execution_count": null,
      "outputs": []
    },
    {
      "cell_type": "code",
      "source": [
        "%%time\n",
        "\n",
        "#first we have to split the string on spaces to get \"words\"\n",
        "whitespace_tokens = my_articles.split(' ')\n",
        "\n",
        "my_lemmas = []\n",
        "for word in whitespace_tokens:\n",
        "    w = wn_lemmatizer.lemmatize(word)\n",
        "    my_lemmas.append(w)\n",
        "my_lemmas[:20]"
      ],
      "metadata": {
        "colab": {
          "base_uri": "https://localhost:8080/"
        },
        "id": "ay5OC7fz-R1s",
        "outputId": "ffd3c644-0a65-4169-e005-bd8a7ff1099a"
      },
      "execution_count": null,
      "outputs": [
        {
          "output_type": "stream",
          "name": "stdout",
          "text": [
            "CPU times: user 36.8 ms, sys: 63 µs, total: 36.9 ms\n",
            "Wall time: 40.8 ms\n"
          ]
        },
        {
          "output_type": "execute_result",
          "data": {
            "text/plain": [
              "['ONE',\n",
              " 'HOLSTEIN',\n",
              " 'MILK',\n",
              " 'COW-Will',\n",
              " 'have',\n",
              " '3rd',\n",
              " 'calf',\n",
              " 'this',\n",
              " 'month;',\n",
              " 'one',\n",
              " '6-yr.-',\n",
              " 'old',\n",
              " 'mare,',\n",
              " 'broken',\n",
              " 'to',\n",
              " 'work',\n",
              " 'with',\n",
              " 'a',\n",
              " 'q',\n",
              " 'nr9la']"
            ]
          },
          "metadata": {},
          "execution_count": 21
        }
      ]
    },
    {
      "cell_type": "markdown",
      "source": [
        "# Byte Pair Encoding"
      ],
      "metadata": {
        "id": "68XBGipl_xE6"
      }
    },
    {
      "cell_type": "code",
      "source": [
        "!pip install bpe\n",
        "from bpe import Encoder"
      ],
      "metadata": {
        "colab": {
          "base_uri": "https://localhost:8080/"
        },
        "id": "rWsSJR_d-RxG",
        "outputId": "ed797ec2-78a3-4b9c-ac72-d079385ccf9e"
      },
      "execution_count": null,
      "outputs": [
        {
          "output_type": "stream",
          "name": "stdout",
          "text": [
            "Requirement already satisfied: bpe in /usr/local/lib/python3.10/dist-packages (1.0)\n",
            "Requirement already satisfied: nltk in /usr/local/lib/python3.10/dist-packages (from bpe) (3.8.1)\n",
            "Requirement already satisfied: tqdm in /usr/local/lib/python3.10/dist-packages (from bpe) (4.66.1)\n",
            "Requirement already satisfied: pytest in /usr/local/lib/python3.10/dist-packages (from bpe) (7.4.2)\n",
            "Requirement already satisfied: hypothesis in /usr/local/lib/python3.10/dist-packages (from bpe) (6.88.1)\n",
            "Requirement already satisfied: toolz in /usr/local/lib/python3.10/dist-packages (from bpe) (0.12.0)\n",
            "Requirement already satisfied: mypy in /usr/local/lib/python3.10/dist-packages (from bpe) (1.6.1)\n",
            "Requirement already satisfied: attrs>=19.2.0 in /usr/local/lib/python3.10/dist-packages (from hypothesis->bpe) (23.1.0)\n",
            "Requirement already satisfied: sortedcontainers<3.0.0,>=2.1.0 in /usr/local/lib/python3.10/dist-packages (from hypothesis->bpe) (2.4.0)\n",
            "Requirement already satisfied: exceptiongroup>=1.0.0 in /usr/local/lib/python3.10/dist-packages (from hypothesis->bpe) (1.1.3)\n",
            "Requirement already satisfied: typing-extensions>=4.1.0 in /usr/local/lib/python3.10/dist-packages (from mypy->bpe) (4.5.0)\n",
            "Requirement already satisfied: mypy-extensions>=1.0.0 in /usr/local/lib/python3.10/dist-packages (from mypy->bpe) (1.0.0)\n",
            "Requirement already satisfied: tomli>=1.1.0 in /usr/local/lib/python3.10/dist-packages (from mypy->bpe) (2.0.1)\n",
            "Requirement already satisfied: click in /usr/local/lib/python3.10/dist-packages (from nltk->bpe) (8.1.7)\n",
            "Requirement already satisfied: joblib in /usr/local/lib/python3.10/dist-packages (from nltk->bpe) (1.3.2)\n",
            "Requirement already satisfied: regex>=2021.8.3 in /usr/local/lib/python3.10/dist-packages (from nltk->bpe) (2023.6.3)\n",
            "Requirement already satisfied: iniconfig in /usr/local/lib/python3.10/dist-packages (from pytest->bpe) (2.0.0)\n",
            "Requirement already satisfied: packaging in /usr/local/lib/python3.10/dist-packages (from pytest->bpe) (23.2)\n",
            "Requirement already satisfied: pluggy<2.0,>=0.12 in /usr/local/lib/python3.10/dist-packages (from pytest->bpe) (1.3.0)\n"
          ]
        }
      ]
    },
    {
      "cell_type": "code",
      "source": [
        "%%time\n",
        "whitespace_tokens = my_articles.split(' ')\n",
        "\n",
        "# calling the Encoder algorithm\n",
        "# we've specified 100 token vocab and 95% to be tokenized\n",
        "# the other 5% is transformed into UNK\n",
        "encoder = Encoder(100, pct_bpe=0.95)\n",
        "encoder.fit(whitespace_tokens)"
      ],
      "metadata": {
        "colab": {
          "base_uri": "https://localhost:8080/"
        },
        "id": "pVrVf4R4-Rtg",
        "outputId": "af0bc82d-c1b8-4b21-cb87-ccfab8b5cd01"
      },
      "execution_count": null,
      "outputs": [
        {
          "output_type": "stream",
          "name": "stdout",
          "text": [
            "CPU times: user 27.9 ms, sys: 986 µs, total: 28.9 ms\n",
            "Wall time: 28.9 ms\n"
          ]
        }
      ]
    },
    {
      "cell_type": "code",
      "source": [
        "#print(encoder.tokenize(my_articles))\n",
        "\n",
        "print(next(encoder.inverse_transform(encoder.transform([my_articles]))))"
      ],
      "metadata": {
        "colab": {
          "base_uri": "https://localhost:8080/"
        },
        "id": "VKhejxHx-Rp3",
        "outputId": "e6d05761-59c9-4f03-aee9-3375fb19b913"
      },
      "execution_count": null,
      "outputs": [
        {
          "output_type": "stream",
          "name": "stdout",
          "text": [
            "one holstein milk cow - will have 3rd calf this month ; one 6 - yr .- old mare , broken to work with a __unk nr9la moving ea __unk sehae fsnsls il seod soadon hggss m . gassett , lo . 3 - s594 . __unk guernsey cow and 2 - month - o - old heifer calf , for sale . call to . 5413 . berkshire brood sows , some registered ; 8 choice pigs ; excellent sorrel sssia tg rdn isl tsdas asrsi se xs __unkhss whit . hands tall ; excellent condition ; gentle snso __unk sis aa ; hs ' de . 41ss . ia ' 0 ' ia0 ' of ' niio ' board and box stall for your horse . potomac hunt club area . rockville 364s . excellent hunter - handsome chestnut gelding , 18__unk3 hands . can lady ; success in horse shows ; safe , willing __unkumper ; smooth gaits for hacking . __unkuiet , well hammered ; rea - sonable price for this perfectly schooled horse . tower 5044 . palomino stallion , white mark ings , 8 years old , fine blood line , mr s1ea eroxta eerisoesxstls9sa gf s s6ss s5ssen to ride work mare , 5 - year - old , black short and stocky . farm broken . 81 . hereford hefers , 10 mead , some bred , purebred bull . sh . 2114 , me - 1894 . - a selection of real riding horses , incl . l well - mannared white walk ing mare . 2 good colored western horses and several bays . also __unk lge . gray gelding . a group ready for beginners or children ; new and used english and western saddles and brides . hilltop farm , fisher i ' d . temple hills . md . l__unk . 3 - s022 . right oh farm . un . 06__unk0 . excel . cond .__unk $ 50 . call vi . __unk__unk96 . stenograph , excellent condition , less pawnbrokers exchange , gl2 p st __unk nv . re . 6199 . sisn9tyre , __unk__unk nd tari , s carving case . metal tiensd . snaranssed . , sss mcsss $ 3 . 50 osc0psa ; se . sitieanograph - late model , excel . sp sgnd ; 6 064ak kseo includes supplies . sfferlfnags ' silver , s - iite canae . cane labra , s55 pair __unk sheffield england 5 - pc . engr . tea service , $ 40 ; shelf flsld sss engglsnd gp ptsi 22 , insh gallery tray . sfs . stonsieish court . 1925 conn . conn store fixtures . for immediate disposal . glass showcases and wall cases , accessory units . carpeting . stohf gs sg fixthhes , e ea eempiste . asao mems shop de luxe . , designed by famous reasonable . bernard store fix . ture co .__unk manufacturer , rear $ 50 stoirsaggee __unk __unk cabinets , used and inc new . various si__unkes at low prices . today , stove . sis __unk 42 - in . sink , new ; metal wall cabinet , 1sx30 ; floor metal cabinet . ia . 1884 . stoves and heaters , oil and coal type , various si__unkes and models . call r . robinson , inc . lu . 4 - 650o . studio couch , chest of drawers , miscellaneous household items ; rea . studio c0uch - siip covers , good condition . 1906 seaton lane , falls church . va . fa . 0320 . - 6 studio couch , gateleg table , in good condition ; reasonable to an day . telsphons tu . 1854 . plano . grand , small , mahogany case , at s5__unk5 . ch . 3512 . piano . nah . upright . $ 50 . oil s6so . 5sso __unk s39 __unk s shepherd st . chevy kp1ss ps . d sf __unk na sso 0s . ss5ul w . ssss pianos - spinets and consoles . also katsers is1s music e __unk sfose , fs5fss , __unksss 80 piano . an n ' si ehild ' s small grand tnot a toy __unk__unk made by wrrlit__unker __unk. for be - ginners , a . keys , 80 in . high and 80 in __unk wide ; sac . s65 . ia . 24__unk__unk , piano . baldwin . acrosonic . spin . t burl walnut . excellent cond .. orig inal owner . wo . 2515 . pianos - you may rent any piano from our complete stock of steinway , sohmer . kimball , gulbransen and cable pianos . the amounts paid may be applied to the purchase price at a later date . the rentals san1irs start as 1ssri . s low as $ 3 . 50 per mo ; plus us explain this ideal way for you to start your child in music now . campbell music co .__unk __unkos g piano . upright . excellent cond . ; room ; reasonable . oe . sos3 . __unk'' 0 '' piano , lester . baby grand , solid mahogany , with stool to match ; in new - piano cond .__unk $ 500 . or . 0323 . piano . baby grand , in excel . cond . 500 cash ; no telephone calls , can be seen at starlight inn . s__unk08 bal timore blvd , berwyn . ndfurniture - mah . credensa . trilled doors ; 4s in . long , il in . deep ; ideal for china , glassware or books ; excel . eons __unk__unk $ 50 ; sh . 192__unk . fureniture - lge . refrigerator . $ 50 ; plete . s25 ; bog springs and mattress , s25 each . or . 0232 . furniture - 1o - pc . din . rm .__unk wal . $ 3 . 50 ; 6 - pc . bedrm . suite , wal , $ 50 ; easy manual , $ 50 , l baby bed , spring and mat , which will make ss ha__unke ' 9a1h san sss sg isundersy sshy . asc washer , s10o ; ali in excel . cond . and reas sss priced . call after 8 pm , furnfture - modern sofa . pullman table , s16 ; both at sacrifice . ak . rttfrssirure . modern , rugs and __unk c . eessories . cali ov . 345__unk after 10 spn__unkay or after $ 50 weekdays . s .. mattress and springs , excellent con - furniture - 4 compl . rms __unk __unk bed 600 ii . aoth st ' a at . it . ke . s__unkssi 5 - 6s1s . ssps furniture __unk armless nreside table . $ 50 . en -. 940l . no dealers . furniture - chesterfield sofa , stu 4io goucn , broauloom rug __unk 10xl2d , __unk , kdoie koop and many items . all very reas . moving soon . ow . s159 . furniture - matc solid mahog - any , bedroom pieces , s dining room piece . telephone victor 1853 . furniture - 9 rooms , modern . some anti__unkues ; owner leaving city . call mr .__unk patrick , ia 1880 . is furniture - living and dining room . du . 18__unk4 . - 6 furniture curley maple 6 - pc . export , sso ; sss sogsweil ailtpeh ehaif sss ; occasional chair , s5 . 1__unk1s otis st . ne . ho . 0__unk39 . is furniture - mode sofa , $ 2s ; coil ped springs so __unk inner - spring mat tress , s19i lawson love sofa , 500 ; sofa bed , $ 59 ; boudoir chair , s2__unk ; cricket chair . $ 40 ; occ . chair , $ 40 ; once desk , $ 50 ; low chest , so ; baby crib . s21 . i ' ll 14th st . nv . aid . loco new hampshire pullets , older , 81 __unk to si . a5 __unk__unk next sa hstch , sfas feb . 8 ; __unk few started chicks avail . nov __unk hoags norbeck hatch ery , 10 . 5 - 19__unk5 or ashton 1898 . feed store , s1e k st . nv . poultry supplies . me . o0s9 . baby chicks - 2 - week special ; reds , rocks , crosses , wyan , leghorns or asst , s595 per 100 ; puliets , light or heavy breeds , s13 , __unk5 __unk. min . x gockerels , s2 . 95 ; chicks for meat , s1 __unk 95 ; immediate delivery . c . o . d . kryder ' s hatchery , box 295 , baby chicks your rae choice inc leghorns __unk__unk. b . rocks , n . h . reds , r . i . reds . red - rock crosses , w . rocks or w . wyandottes , $ 500 per 100 ; pullets , any breed , s12 . 90 100 ; heavy assorted , $ 3 . 50 per 100 __unk may national chicks ; s24s temple rd .__unk philadelphia 10 , pa . we expertly full dress chickens . and t5 5rli1 turkeys __unk for free__unking ; fresh eggs cowan oa shgaf oacksmd . sso rrsglas ssoi5 - s t . s . app . pull ; clean . fryers wholesale , retail ; 5st batch tues ; sowan farms . phone starter chicks and fryers cheap , pe ga cypysss svh 9ssei sns gen opefstor ; h9mers ; f9ny from government birds . capftoi0 iiti 10y hatcaery - 1as5 il cafife ; ry1as5 kenil - worth ave . ne . victor 1858 . only hatchery in d . c . 20 ' studio couch and chair , looks ike s , nst ; . s __unk__unk paid is $ ss less than sioy yr ago suits . mems , 2 tuxedos , si__unke a__unk . ex - esellent condition . $ 50 for both . ad ' suits , si__unke 40 short ; slacks , so waist ; white arrow shirts . 18__unk4 . 4431 surseyor ' s ghh __unk sfss il n ' eeau1rmenr - 4 steel tape . __unk mesch tape , 2 sets draftins left - handed golf clubs , lady ' s golf clubs , lady ' s top flight mary k . brown tennis racket . press and cover , ia . 4 - 1166 , sun . or after table , cocktail . in light mahogany alcohol proof ; also lamp table tc table . drop - ieaf , o duncan an rhyfe , f .__unk ma dition ; $ 40 . wi . 1888 . table . gate - leg , large . solid mahog - any , __unk drawer ; excellent condition ssmsse ill .__unk 1sass ns __unk s il yss liner rom al ilreland ' ss famous nous linen af ' house house 500 telephone or . 0431 . is tabaret , genuine teakwood , marble dble . hollywood bed . co . 1892 . - 5 tea set , pewter , chinese . perfect condition , 4 pieces , $ 40 . adams tiealtesviision - floor samples at re . duced prices . some __unk. at wholesale __unk good 18th and g sis . nv , televisi0n . 1850 admiral . includ - ing installation and insurance . s1__unk5 ; 1850 emerson radio combination set and 3 - pc . parlor suite . both sis rrle__unkfsion fell vfss , set . rca . 1o - in . tub . rehevfsnon ihs sisr fl 4 . lesone , snsl__unk m . hos cab . met . r __unk with magnifier and indoor fsils3i sas 81 ; sermovn . r s415 ; trans . mahog . console , 12h __unk screen ; orig teefv1sfon reiis rss f8bg s6 5bf4 si44 also rp1 only y , 3sn __unk ns 2 monshs ; s25 . or ; 1920 . to , 20ee ; every one name brand ; electric village , __unk a __unk carroll ar i ave . takoma pix , md . sh . 200 , sh . 1898 . open mon , thurs , sat . li__unk naclon , i1dillctdltets . less ina n year old . mahogany cabinet , excel lent condition , $ 50 . sh . . 20__unk1 . new ge 1o - inch , s16o , cash or monthly ; 3 - month guaran - tee . call me . 3553 . television , console model , am and fin radio and phonograph combina - ton ; $ 500 value , $ 3 . 50 or best offer television fl 2si5 set , 1s4s dumont , 20 - inch direct view screen , 8 mos old , perfect condition . owner nov ing , will sell for $ 3 . 50 . cost when new over 5000 . see this uni__unkue bargain at campbell ' s music co .__unk 110s __unk st . ii philco console model co 1eo4s ; sseps practically brsnd - new ' s3oo ' television - admiral combination , 12h - in . tube , amin radio . 2 mos . television . ge . combination . with sntenna ; a1sa excel . cond .__unk reas . gall teievisi0n sets i ' d to 4om of ; 2 - year service on all models . last years models slashed , many door samples . and demonstrators . free home demonstration . easy . terms . open ewes . until 9 royal ap - pt1angie fif 60 , 1911 nichols ave . television , new . 1850 models only . ii you have cash , see us . para . mount co , georgia ave . at w st nv hi 4s0o __unk eondision . so . ' iho ' phons wi . f ' ses . 5sos tla1 laandrem . t . yssa saeo ; new wessaiase wsstinss house dryer . $ 500 . call co . $ 3 . 50 . washing machine , good condition , wash1na sls i1 ' mach machine , eas , spin dryer ; d ; i s1ogo ; tyssdaipe ysap receiver . ham . washins iiss hss 4hdhise . 4w 1sa__unk easy . vrins . r s tyse ; sgssas electric pump ; sa6 . ii . washing machine , easy . spin dty fcn lats mossl very $ 685 . s9ea eond - wssh1sgp rssdi ssepals mashne chi f nolf __unk a1s6 family si__unke . almost new , s45 . call tu . washing machine . new motor . wasaiss sffi go sn__unkfs um 5sniu4 1916 pros per petity ; cond and ganeled 4sss truck both in s . asas , lent condition ; sacrifice . ke ' washing machines . 4oes disc . on a__unk tioor models . last years models sii1 siashsd ' rnysr es5y terms ippr sn 0psn eyes s __unk h ' saos sss is t1sss 400 to 60eo on bulova . elgin . ben rus , hamilton gruen . longines . fine swiss ; lowest prices . large selection ; __unk0 $ 3 . 50 esisfsp ' kossiys loan . eoas __unk ei5o e .. water heaters . 0us __unk used , sale . 20 . is 8 ; i ' ve tnrebster __unk axss 81 . s2 __unk __unk st __unk nv ; $ 3 . 50 siocks kse . ss __unk so__unke x spsst . l st . n . x ss wefd1sa me ss9l , outfit . complete , vs nth sas ' saassseswi wa __unk aeufitll9nss fl9ss . heads aoetylsne ' wheelchair , everest __unk __unkennings , chrome , folding . foam , cushioned wosk seasi 0fsf benehgsts . eff tf ssncs sack lees rigid __unk pipe wise . bender . threader , drill press , tor__unkue wrench , book cases , leica poleroid camera , east man man , movie camera ; all cheap . wi . wrist watch , mans . 21 - __unkewel bull ova . excellent condition ; very rea . . sonable __unk best offer . fa 545s . war surplus -- warcho full of tools , motors , electrontcs , machinery , ea items iehner esps sh__unkysis 100 n__unk 9th b nv . where prices talk . ex . you can save up to 5000 on several floor sample spinet and con - the famous minipiano ; fuli 5 - year ear guarantee ; also . student - si__unke pianos from s295 up ; liberal terms . lu - bar inc . 1900 g st . nv . ma . electric washer . wringer gear box broken . otherwise good condi - ton , $ 26 , 2 sets fencing foils and masks . sl5 . greenbelt 2063 . cedar wardrobe . metal bed , compl . dinette ' tabls ' 4 chairs __unk buffet . 1 .. 6 for sale - rca radio - phono . com bination , table model ; also emerson 6aos table radi__unk ; both for s25 . call re . foreign trade business letter serv - gross income annuaily . svi viii sayioah sell ali apex washing machine , almost reasonable . mcreynolds , 1905 g . t e . 4 . ft . t . repr1geraror . err ; i only lent condition ; only only is $ 50 . in star star radio co . 400 11th st . nv . r . c ; a . teleyision . radio - phono combination with am , fin short snsed sass raeo sood sed ss ss t9s sas oay ss gs5 star radio co , 409 1ith st . nv . transf . florida - sacrifici new , modern lined oak dining room suite with table pad , chairs . lamps , china , 9x12 rose , 11x1__unk cocoa broadloom rugs and cushions , new kitchen set , western bar and accessories . st . hot point elec . stove with deep excel . cond . of . 1854 . is apt . washer with wringer ; both in perfect cond .__unk must sell at once . furn .- sofa and chair . lawson 1886 35th st . nv . - 5 furn .- 3 full rooms of furniture for sale . reasonable . sh . 5__unk93 . __unk enthusiastically new __unk sgle . bed , red maple ; s19 . __unk5 .. wi . 4s3s . p furn .- bedroom suite , s - pc . walnut , good condition , 500 . 1905 avon furn .- __unkuiior dining room suite , __unk pieces , y walnut ; perfect eond .__unk s__unk5 . furn . ta i __unk saa ; crince , 81 ; mahos . din . rm .__unk exec rug with pad . $ __unk5 ; dbl . bed . dresser ; etc . wo . 9460 . fbrn .- bedrm . suite , 8 pcs , solid mahos __unk__unk rugs lamps liv . rm . furn . furn . w2 - pe . liv . rm . with slipcov - ers . l cocktail and 2 end tables . good condition . gil . 3252 . furn .- mahog . dinette set , $ 50 ; easy snstt ; sic ; ss 5o vac w elesne5 ' o4s6 $ 3 . 50 ; furn . nchinese cabinet , florentined bookcase . 5 - candle ormolu bron__unke wall bracket . ho . s035 . furn . - beaut . chippendale sofa . matching chair , carved frames . ex - eel . cond .__unk $ 500 , cost $ 500 . 10 . furs . coak table , 4 chairs . $ 50 ; other articles for sale . l to sun day 1915 south dakota ave . ne . furn .- contents 6 - rm . house , period nah . din . rm .__unk 3 - pc . liv . rm .__unk new cond .__unk bedrm .__unk kit . and other fur nishings ; rugs , washing machine , ironer . leaving city . ia . 2236 . guns . . 3s colt revolver . 30 . 06 gus tom de luxe rifle , nm . mauser rifle ; reasonable . glebe 62__unk9 . can of . 3342 after 8 am . guns high - grade shotguns , sew eral high - powered rifles , k - 22 , and hi - standard target pistols ; no permit re__unkuired . ok . 185__unk or fa , 5000 . gun . remington sportsman , 10 gauge , cults compensators . 10 . 2 - 4__unk45 . gun , parker 20 - gause and case 436 orange st . sc . - 5 heaters toll . coal gas . wood , elec . __unk .. new and used . acme stove co .. htosssppital fbseddm . wusesda ed only as ' 3 3 mos . call du . 1853 . - 5 hospital bed . extra length . fully e__unkuipped with everything for an invalid or broken bones __unk simmons ; deckert __unk reas . co . oats . - hot water heater - timkin __unk oil burning __unk used very little __unk will heat up to $ 50 gallons or can be used r in plfksss ks s8fs4aa e 81 burning furpscs ; household goods , aluminium ware , blankets . linens , toasters . ra - dios , cheap . mrs . l . a . haynie , lge skates . white . figure . si__unke 6ii , fair condition . formerly $ 40 ; sellmore people buy pianos from kits than from any other store in the city . __unk fact we are proud of and consider remarkable testimonial for the __unkuality and value you get in the piano we stock . before you buy anywhere , don ' t fail to see our display of pianos . comparison will convince you that 1t costs no more to buy the best at kits ,\n"
          ]
        }
      ]
    },
    {
      "cell_type": "markdown",
      "source": [
        "#Wikitext Dataset"
      ],
      "metadata": {
        "id": "_9V2vAX7Cdwg"
      }
    },
    {
      "cell_type": "markdown",
      "source": [
        "##Whitespace Tokenization"
      ],
      "metadata": {
        "id": "ST-O4kG1EKKd"
      }
    },
    {
      "cell_type": "code",
      "source": [
        "# Decide how many articles you want to work with\n",
        "num_articles = 10\n",
        "\n",
        "# Load the \"SrpWikiDataset\"\n",
        "dataset = load_dataset(\"datatab/SrpWikiDataset\")\n",
        "\n",
        "# Get the first n articles from the dataset\n",
        "# Instantiate the counter\n",
        "i = 0\n",
        "# Instantiate the string\n",
        "my_articles = ''\n",
        "# Loop through each article in the dataset\n",
        "for article in dataset['train']:\n",
        "    # The article is a dictionary, get the text of the article\n",
        "    my_articles += article['text']\n",
        "    # Add one to the counter\n",
        "    i += 1\n",
        "    # If the counter is greater than num_articles-1, stop looping\n",
        "    if i > (num_articles - 1):\n",
        "        break\n",
        "\n",
        "# Validate that it is what we expect by checking the first 1000 characters\n",
        "print(my_articles[:1000])"
      ],
      "metadata": {
        "colab": {
          "base_uri": "https://localhost:8080/",
          "height": 214,
          "referenced_widgets": [
            "9aeb052efae541cdb58fd59553234db3",
            "8ac2fc7380bc473697d60d7a99620161",
            "8b1cfd270b6f437b9a57acd5be73d630",
            "9f2f1741d64e49d0851a8710fda3bb42",
            "ae1286a62cef49d19b0937b895483a06",
            "46b5700f9278402fbda9e30cfd7bc8ea",
            "748d9689bea44ab6ab18d42c169328c9",
            "14b8bb9e71af4e39bb1ae518470e9580",
            "6a5453b8dde04554a63d58e6192e7508",
            "623ca83d93874955a34d97a528e9be3e",
            "c2a550aaefc1410987dca5f70a6d571c",
            "225554ffedfb42babdffee238cc2b036",
            "10924e6420c94cb8a8fa722e1666f05a",
            "f49490ed255f49bf908645db6f137410",
            "0142782eeb4c480fb49b8395fc636b42",
            "c5ef19fc213b4891bf09a2db8721fed1",
            "9b517ce346964dc18b3b0051620fab0a",
            "164ed83172aa4af3b2477cd827c6985c",
            "8648725ae1974c4aa77924b4947146d6",
            "d63624b8d0fd4db284d6ecd5fa9de865",
            "4ed2d9baa6204854ba431add41489176",
            "a56d737c5ce04202b5501cef327b4981",
            "da15a0522881420ea871ae3f64503642",
            "2897d8814e8b4903ac0d0638bc205adf",
            "cf2d016b8ad64a1bba1d00539ddc6e1d",
            "5d445ecc996f4d92945ef4238f7008fe",
            "728a1053222b4ddb9738ef6112046e6f",
            "42eca71ff5eb41269a6bb22306e82011",
            "2518dd31da404debb22edcc29bf94fc7",
            "5b06194a94734f7e80212f5d27c40124",
            "a22fa1c12c88499988479f591c2e1910",
            "5932e64091df40c8a882ef609b77582c",
            "e92d30f0cd6d4362bd6253a619483a1f",
            "30a4e69016c541468dd1e1bddf176cda",
            "cdf0a985b12241c4a3d3548594edc45b",
            "f84fd1bded5b457bb7aae9d93ec66759",
            "e646b0675fe2400c9cd5c3be022fd14e",
            "3f59230e5f984d1cb886873aec06b15b",
            "dc06472afed54880b098a6d2c256bd7e",
            "ab5c962492c441f0956f6b5a456859e1",
            "0480ab26443c45a98bc909b6c7e3306b",
            "366ff52b6cc540b8bcd6394dac28eff8",
            "07724b6a4f334d1eb2610f3eb56cc1e6",
            "7f98f286d5c14479bc2d22699b0bc9e0",
            "85a3edda2ebc4b2d92d9657fe8803e1b",
            "0120e356917d49b7adf99b113a4c2572",
            "23397a3995494b42a81f44a4258680e8",
            "2a99f0435a9142048723264aa09e74d5",
            "d0e6a088661e4ad8b0b886db686da37a",
            "2d591aadcdac4859aaf463fc1db447bd",
            "9f23fc5d9bc041bca358fbb3a89ade2c",
            "9e40ac7a1c6a47c9bff569d1920453c5",
            "60f9e2654a0547f58f75a5be4c8a2c3d",
            "5926c24d2a3449e8b5b4213f66f39c4f",
            "1d7b1b7b4d174beda54753b33b021bb7"
          ]
        },
        "id": "5Dglnmh1Jhku",
        "outputId": "47b0739e-c52d-4256-d5db-d84853c2bf64"
      },
      "execution_count": null,
      "outputs": [
        {
          "output_type": "display_data",
          "data": {
            "text/plain": [
              "Downloading readme:   0%|          | 0.00/636 [00:00<?, ?B/s]"
            ],
            "application/vnd.jupyter.widget-view+json": {
              "version_major": 2,
              "version_minor": 0,
              "model_id": "9aeb052efae541cdb58fd59553234db3"
            }
          },
          "metadata": {}
        },
        {
          "output_type": "display_data",
          "data": {
            "text/plain": [
              "Downloading data files:   0%|          | 0/1 [00:00<?, ?it/s]"
            ],
            "application/vnd.jupyter.widget-view+json": {
              "version_major": 2,
              "version_minor": 0,
              "model_id": "225554ffedfb42babdffee238cc2b036"
            }
          },
          "metadata": {}
        },
        {
          "output_type": "display_data",
          "data": {
            "text/plain": [
              "Downloading data:   0%|          | 0.00/258M [00:00<?, ?B/s]"
            ],
            "application/vnd.jupyter.widget-view+json": {
              "version_major": 2,
              "version_minor": 0,
              "model_id": "da15a0522881420ea871ae3f64503642"
            }
          },
          "metadata": {}
        },
        {
          "output_type": "display_data",
          "data": {
            "text/plain": [
              "Extracting data files:   0%|          | 0/1 [00:00<?, ?it/s]"
            ],
            "application/vnd.jupyter.widget-view+json": {
              "version_major": 2,
              "version_minor": 0,
              "model_id": "30a4e69016c541468dd1e1bddf176cda"
            }
          },
          "metadata": {}
        },
        {
          "output_type": "display_data",
          "data": {
            "text/plain": [
              "Generating train split:   0%|          | 0/3796604 [00:00<?, ? examples/s]"
            ],
            "application/vnd.jupyter.widget-view+json": {
              "version_major": 2,
              "version_minor": 0,
              "model_id": "85a3edda2ebc4b2d92d9657fe8803e1b"
            }
          },
          "metadata": {}
        },
        {
          "output_type": "stream",
          "name": "stdout",
          "text": [
            "UTF-8 UTF-8 varijanta je najzgodnija za kodiranje većinski latiničnog teksta.Dato je i kratko uputstvo za korišćenje te varijante u Microsoft Word-u, Netscape Composer-u i tekstualnom editoru Kate.U tekstu su takođe preporučeni standardni Unicode fontovi koji omogućavaju laku prenosivost teksta sa računara na računar ili za objavljivanje teksta na Internet.Prvi računari su bili pravljeni pretežno za englesko govorno područje i imali su podršku samo za engleski alfabet, za brojeve, zagrade i još po neki kontrolni karakter, što je činilo ukupno 128 mogućih slova (u 7 bita).To je bio tzv. -{ASCII}- ili -{US-ASCII}- standard.1968. godine je skup karaktera proširen na 256 (8 bita), a gornjih 128 karaktera je bilo korišćeno za dodatne karaktere.Iz neke navike je i ovaj prošireni -{ASCII}- nazivan -{ASCII}-, tako da tu često dolazi do zabune.Da bi postojala podrška za više jezika, smišljane su tzv. kodne strane (-{Code Page}-) koje definišu ponašanje tog dodatnog skupa slova.Osnovna kodna str\n"
          ]
        }
      ]
    },
    {
      "cell_type": "markdown",
      "source": [
        "#Since the displayed text is in Serbian, I'm using Google Translate to convert it into English."
      ],
      "metadata": {
        "id": "p08dZ6bqU4-r"
      }
    },
    {
      "cell_type": "code",
      "source": [
        "!pip install googletrans==4.0.0-rc1"
      ],
      "metadata": {
        "colab": {
          "base_uri": "https://localhost:8080/"
        },
        "id": "E0m19U0ICGbK",
        "outputId": "cc090942-6a3c-43cf-d0b9-a2d9b939d28e"
      },
      "execution_count": null,
      "outputs": [
        {
          "output_type": "stream",
          "name": "stdout",
          "text": [
            "Requirement already satisfied: googletrans==4.0.0-rc1 in /usr/local/lib/python3.10/dist-packages (4.0.0rc1)\n",
            "Requirement already satisfied: httpx==0.13.3 in /usr/local/lib/python3.10/dist-packages (from googletrans==4.0.0-rc1) (0.13.3)\n",
            "Requirement already satisfied: certifi in /usr/local/lib/python3.10/dist-packages (from httpx==0.13.3->googletrans==4.0.0-rc1) (2023.7.22)\n",
            "Requirement already satisfied: hstspreload in /usr/local/lib/python3.10/dist-packages (from httpx==0.13.3->googletrans==4.0.0-rc1) (2023.1.1)\n",
            "Requirement already satisfied: sniffio in /usr/local/lib/python3.10/dist-packages (from httpx==0.13.3->googletrans==4.0.0-rc1) (1.3.0)\n",
            "Requirement already satisfied: chardet==3.* in /usr/local/lib/python3.10/dist-packages (from httpx==0.13.3->googletrans==4.0.0-rc1) (3.0.4)\n",
            "Requirement already satisfied: idna==2.* in /usr/local/lib/python3.10/dist-packages (from httpx==0.13.3->googletrans==4.0.0-rc1) (2.10)\n",
            "Requirement already satisfied: rfc3986<2,>=1.3 in /usr/local/lib/python3.10/dist-packages (from httpx==0.13.3->googletrans==4.0.0-rc1) (1.5.0)\n",
            "Requirement already satisfied: httpcore==0.9.* in /usr/local/lib/python3.10/dist-packages (from httpx==0.13.3->googletrans==4.0.0-rc1) (0.9.1)\n",
            "Requirement already satisfied: h11<0.10,>=0.8 in /usr/local/lib/python3.10/dist-packages (from httpcore==0.9.*->httpx==0.13.3->googletrans==4.0.0-rc1) (0.9.0)\n",
            "Requirement already satisfied: h2==3.* in /usr/local/lib/python3.10/dist-packages (from httpcore==0.9.*->httpx==0.13.3->googletrans==4.0.0-rc1) (3.2.0)\n",
            "Requirement already satisfied: hyperframe<6,>=5.2.0 in /usr/local/lib/python3.10/dist-packages (from h2==3.*->httpcore==0.9.*->httpx==0.13.3->googletrans==4.0.0-rc1) (5.2.0)\n",
            "Requirement already satisfied: hpack<4,>=3.0 in /usr/local/lib/python3.10/dist-packages (from h2==3.*->httpcore==0.9.*->httpx==0.13.3->googletrans==4.0.0-rc1) (3.0.0)\n"
          ]
        }
      ]
    },
    {
      "cell_type": "code",
      "source": [
        "from datasets import load_dataset\n",
        "from googletrans import Translator\n",
        "\n",
        "# Define the name of the \"SrpWikiDataset\" dataset\n",
        "dataset_name = \"srp_wiki\"\n",
        "\n",
        "# Decide how many articles you want to work with\n",
        "num_articles = 10\n",
        "\n",
        "# Load the \"SrpWikiDataset\"\n",
        "dataset = load_dataset(\"datatab/SrpWikiDataset\")\n",
        "\n",
        "# Create a translator\n",
        "translator = Translator()\n",
        "\n",
        "# Get the first n articles from the dataset and translate to English\n",
        "# Instantiate the counter\n",
        "i = 0\n",
        "# Instantiate the string\n",
        "my_articles = ''\n",
        "# Loop through each article in the dataset\n",
        "for article in dataset['train']:\n",
        "    # The article is a dictionary, get the text of the article\n",
        "    article_text = article['text']\n",
        "\n",
        "    # Translate the article text from Serbian to English\n",
        "    translated_text = translator.translate(article_text, src='sr', dest='en').text\n",
        "\n",
        "    my_articles += translated_text\n",
        "    # Add one to the counter\n",
        "    i += 1\n",
        "    # If the counter is greater than num_articles-1, stop looping\n",
        "    if i > (num_articles - 1):\n",
        "        break\n",
        "\n",
        "# Validate that it is what we expect by checking the first 1000 characters\n",
        "print(my_articles[:1000])"
      ],
      "metadata": {
        "colab": {
          "base_uri": "https://localhost:8080/"
        },
        "id": "Yq23XEo8CGXP",
        "outputId": "6642f7d4-0ed0-47a0-ce14-aad57866140e"
      },
      "execution_count": null,
      "outputs": [
        {
          "output_type": "stream",
          "name": "stdout",
          "text": [
            "The UTF-8 UTF-8 variant is the most common for coding the majority latin text.The short manual for use of this variant in Microsoft Word, Netscape Composer and the Kate's text editor is also given.The text is also recommended by standard unicode fonts that allow easy portability of text from your computer to a computer or to publish text to the Internet.The first computers were predominantly for the English speech area and had support only for English alphabet, for numbers, brackets and some control character, which made a total of 128 possible letters (in 7 bits).It was the so-called.- {ASCII} - or - {US-ASCII} - Standard.In 1968, the character set expanded to 256 (8 bits), and the upper 128 characters was used for additional characters.From some habit, this extended - {ascii} - called - {ascii} -, so that often comes to confusion.In order to support for several languages, the so-called are designed.Code sides (- {code page} -) that define the behavior of that additional set of letter\n"
          ]
        }
      ]
    },
    {
      "cell_type": "code",
      "source": [
        "#remove new line and other formatting characters\n",
        "for char in [\"\\n\", \"\\r\", \"\\d\", \"\\t\"]:\n",
        "    my_articles = my_articles.replace(char, \" \")\n",
        "my_articles[:1000]"
      ],
      "metadata": {
        "colab": {
          "base_uri": "https://localhost:8080/",
          "height": 122
        },
        "id": "ottj3Wq0CGTI",
        "outputId": "f54bf4d9-ee7d-4f34-b58c-15001884cfa2"
      },
      "execution_count": null,
      "outputs": [
        {
          "output_type": "execute_result",
          "data": {
            "text/plain": [
              "\"The UTF-8 UTF-8 variant is the most common for coding the majority latin text.The short manual for use of this variant in Microsoft Word, Netscape Composer and the Kate's text editor is also given.The text is also recommended by standard unicode fonts that allow easy portability of text from your computer to a computer or to publish text to the Internet.The first computers were predominantly for the English speech area and had support only for English alphabet, for numbers, brackets and some control character, which made a total of 128 possible letters (in 7 bits).It was the so-called.- {ASCII} - or - {US-ASCII} - Standard.In 1968, the character set expanded to 256 (8 bits), and the upper 128 characters was used for additional characters.From some habit, this extended - {ascii} - called - {ascii} -, so that often comes to confusion.In order to support for several languages, the so-called are designed.Code sides (- {code page} -) that define the behavior of that additional set of letter\""
            ],
            "application/vnd.google.colaboratory.intrinsic+json": {
              "type": "string"
            }
          },
          "metadata": {},
          "execution_count": 3
        }
      ]
    },
    {
      "cell_type": "markdown",
      "source": [
        "Whitespace Tokenization"
      ],
      "metadata": {
        "id": "Gjkygf2LMA5T"
      }
    },
    {
      "cell_type": "code",
      "source": [
        "%%time\n",
        "#this is a magic function to determine how long a cell takes to run.\n",
        "#It MUST be the first thing in a cell\n",
        "\n",
        "#split the whole string on spaces. This returns a list\n",
        "whitespace_tokens = my_articles.split(' ')\n",
        "\n",
        "#check the list\n",
        "whitespace_tokens[:20]"
      ],
      "metadata": {
        "colab": {
          "base_uri": "https://localhost:8080/"
        },
        "id": "JNCMyLDrCGPG",
        "outputId": "949a6aff-40fb-4f8a-b0ad-efe128f45a19"
      },
      "execution_count": null,
      "outputs": [
        {
          "output_type": "stream",
          "name": "stdout",
          "text": [
            "CPU times: user 66 µs, sys: 0 ns, total: 66 µs\n",
            "Wall time: 70.1 µs\n"
          ]
        },
        {
          "output_type": "execute_result",
          "data": {
            "text/plain": [
              "['The',\n",
              " 'UTF-8',\n",
              " 'UTF-8',\n",
              " 'variant',\n",
              " 'is',\n",
              " 'the',\n",
              " 'most',\n",
              " 'common',\n",
              " 'for',\n",
              " 'coding',\n",
              " 'the',\n",
              " 'majority',\n",
              " 'latin',\n",
              " 'text.The',\n",
              " 'short',\n",
              " 'manual',\n",
              " 'for',\n",
              " 'use',\n",
              " 'of',\n",
              " 'this']"
            ]
          },
          "metadata": {},
          "execution_count": 4
        }
      ]
    },
    {
      "cell_type": "markdown",
      "source": [
        "Morphological Tokenization"
      ],
      "metadata": {
        "id": "ydjl7h1DMNCg"
      }
    },
    {
      "cell_type": "code",
      "source": [
        "nltk.download('wordnet')\n",
        "nltk.download('omw-1.4')"
      ],
      "metadata": {
        "colab": {
          "base_uri": "https://localhost:8080/"
        },
        "id": "uix3_xOtCGJ3",
        "outputId": "34b2d19e-a78b-4111-8af8-348d0cd68e59"
      },
      "execution_count": null,
      "outputs": [
        {
          "output_type": "stream",
          "name": "stderr",
          "text": [
            "[nltk_data] Downloading package wordnet to /root/nltk_data...\n",
            "[nltk_data]   Package wordnet is already up-to-date!\n",
            "[nltk_data] Downloading package omw-1.4 to /root/nltk_data...\n",
            "[nltk_data]   Package omw-1.4 is already up-to-date!\n"
          ]
        },
        {
          "output_type": "execute_result",
          "data": {
            "text/plain": [
              "True"
            ]
          },
          "metadata": {},
          "execution_count": 30
        }
      ]
    },
    {
      "cell_type": "code",
      "source": [
        "#This lemmatizer is based on the Morphy project above\n",
        "from nltk.stem import WordNetLemmatizer\n",
        "wn_lemmatizer = WordNetLemmatizer()"
      ],
      "metadata": {
        "id": "bL33fV6KCGFz"
      },
      "execution_count": null,
      "outputs": []
    },
    {
      "cell_type": "code",
      "source": [
        "%%time\n",
        "\n",
        "#first we have to split the string on spaces to get \"words\"\n",
        "whitespace_tokens = my_articles.split(' ')\n",
        "\n",
        "my_lemmas = []\n",
        "for word in whitespace_tokens:\n",
        "    w = wn_lemmatizer.lemmatize(word)\n",
        "    my_lemmas.append(w)\n",
        "my_lemmas[:20]"
      ],
      "metadata": {
        "colab": {
          "base_uri": "https://localhost:8080/"
        },
        "id": "9X9kS7KQCGBA",
        "outputId": "a8051069-7feb-4c23-b5fc-610548163bc1"
      },
      "execution_count": null,
      "outputs": [
        {
          "output_type": "stream",
          "name": "stdout",
          "text": [
            "CPU times: user 1.5 ms, sys: 0 ns, total: 1.5 ms\n",
            "Wall time: 1.52 ms\n"
          ]
        },
        {
          "output_type": "execute_result",
          "data": {
            "text/plain": [
              "['The',\n",
              " 'UTF-8',\n",
              " 'UTF-8',\n",
              " 'variant',\n",
              " 'is',\n",
              " 'the',\n",
              " 'most',\n",
              " 'common',\n",
              " 'for',\n",
              " 'coding',\n",
              " 'the',\n",
              " 'majority',\n",
              " 'latin',\n",
              " 'text.The',\n",
              " 'short',\n",
              " 'manual',\n",
              " 'for',\n",
              " 'use',\n",
              " 'of',\n",
              " 'this']"
            ]
          },
          "metadata": {},
          "execution_count": 32
        }
      ]
    },
    {
      "cell_type": "markdown",
      "source": [
        "Byte Pair Encoding"
      ],
      "metadata": {
        "id": "3W1krhwNMeZU"
      }
    },
    {
      "cell_type": "code",
      "source": [
        "%%time\n",
        "whitespace_tokens = my_articles.split(' ')\n",
        "\n",
        "# calling the Encoder algorithm\n",
        "# we've specified 100 token vocab and 95% to be tokenized\n",
        "# the other 5% is transformed into UNK\n",
        "encoder = Encoder(100, pct_bpe=0.95)\n",
        "encoder.fit(whitespace_tokens)"
      ],
      "metadata": {
        "colab": {
          "base_uri": "https://localhost:8080/"
        },
        "id": "B3GIz3s5CF9A",
        "outputId": "7cb90557-8962-4de5-dd1f-4d39ca298693"
      },
      "execution_count": null,
      "outputs": [
        {
          "output_type": "stream",
          "name": "stdout",
          "text": [
            "CPU times: user 2.92 ms, sys: 0 ns, total: 2.92 ms\n",
            "Wall time: 3.1 ms\n"
          ]
        }
      ]
    },
    {
      "cell_type": "code",
      "source": [
        "#print(encoder.tokenize(my_articles))\n",
        "\n",
        "print(next(encoder.inverse_transform(encoder.transform([my_articles]))))"
      ],
      "metadata": {
        "colab": {
          "base_uri": "https://localhost:8080/"
        },
        "id": "O_LZwPesCF4F",
        "outputId": "36f219c1-04d7-46eb-df0c-2fd336080cd6"
      },
      "execution_count": null,
      "outputs": [
        {
          "output_type": "stream",
          "name": "stdout",
          "text": [
            "the utf - 8 utf - 8 variant is the most common for coding the ma__unkority latin text . the short manual for use of this variant in microsoft word , netscape composer and the __unkate __unk s text editor is also given . the text is also recommended by standard unicode fonts that allow easy portability of text from your computer to a computer or to publish text to the internet . the first computers were predominantly for the english speech area and had support only for english alphabet , for numbers , brac__unkets and some control character , which made a total of __unk__unk8 possible letters __unk in __unk bits __unk__unk it was the so - called __unk- { ascii } - or - { us - ascii } - standard . in __unk__unk__unk8 , the character set expanded to __unk__unk__unk __unk 8 bits __unk, and the upper __unk__unk8 characters was used for additional characters . from some habit , this extended - { ascii } - called - { ascii } -, so that often comes to confusion . in order to support for several languages , the so - called are designed . code sides __unk- { code page } -__unk that define the behavior of that additional set of letters . the basic code page in personal computers __unk- { pc__unk__unk__unk } -__unk in this upper set of character defines various graphic characters to draw text windows and the li__unke . lots of central parties that support certain languages have been developed later .\n"
          ]
        }
      ]
    },
    {
      "cell_type": "markdown",
      "source": [
        "The results show that all three tokenization methods gave similar text outputs. It doesn't seem to matter which method I use in this case.\n",
        "As for the time it took to process the text, all methods were pretty quick. Even the slowest one, Byte Pair Encoding, only took a few milliseconds. So, the choice of tokenization method doesn't slow things down much for this text.\n",
        "In summary, Whitespace Tokenization is the quickest method for this text dataset."
      ],
      "metadata": {
        "id": "RdEJ1NR7Y3La"
      }
    }
  ]
}